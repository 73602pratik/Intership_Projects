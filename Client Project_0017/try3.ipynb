{
 "cells": [
  {
   "cell_type": "code",
   "execution_count": 1,
   "id": "444d7dcf",
   "metadata": {},
   "outputs": [
    {
     "name": "stderr",
     "output_type": "stream",
     "text": [
      "C:\\Users\\PRATIK KALE\\anaconda3\\lib\\site-packages\\scipy\\__init__.py:146: UserWarning: A NumPy version >=1.16.5 and <1.23.0 is required for this version of SciPy (detected version 1.26.4\n",
      "  warnings.warn(f\"A NumPy version >={np_minversion} and <{np_maxversion}\"\n"
     ]
    }
   ],
   "source": [
    "# Import important libraries\n",
    "import numpy as np\n",
    "import pandas as pd\n",
    "\n",
    "# Import important libraries for visulization\n",
    "import seaborn as sns\n",
    "import matplotlib.pyplot as plt\n",
    "%matplotlib inline\n",
    "\n",
    "# import to ignore warnings\n",
    "import warnings\n",
    "warnings.filterwarnings('ignore')\n",
    "\n",
    "# display all columns\n",
    "pd.set_option('display.max_columns',None)\n",
    "\n",
    "# Import libraries for handling categorical data\n",
    "from sklearn.preprocessing import LabelEncoder\n",
    "\n",
    "from scipy import stats\n",
    "from scipy.stats import uniform\n",
    "\n",
    "# Import libraries to handle scaling\n",
    "from sklearn.preprocessing import MinMaxScaler,StandardScaler\n",
    "\n",
    "# Libraries to split data into train and test data\n",
    "from sklearn.model_selection import train_test_split\n",
    "\n",
    "# Libraries to evaluate model\n",
    "from sklearn.metrics import confusion_matrix,accuracy_score,precision_score,f1_score,classification_report\n",
    "\n",
    "# Imoport models algorithms\n",
    "from sklearn.linear_model import LogisticRegression\n",
    "from sklearn.ensemble import RandomForestClassifier, GradientBoostingClassifier, AdaBoostClassifier\n",
    "from sklearn.svm import SVC\n",
    "from sklearn.neighbors import KNeighborsClassifier\n",
    "from sklearn.tree import DecisionTreeClassifier\n",
    "from sklearn.naive_bayes import GaussianNB\n",
    "from xgboost import XGBClassifier\n",
    "from sklearn.neural_network import MLPClassifier\n",
    "from sklearn.model_selection import RandomizedSearchCV"
   ]
  },
  {
   "cell_type": "code",
   "execution_count": 2,
   "id": "d446eb3f",
   "metadata": {},
   "outputs": [],
   "source": [
    "# Import library to connect mysql\n",
    "import mysql.connector\n",
    "connect = mysql.connector.connect(host='18.136.157.135',\n",
    "                                    user='dm_team3',\n",
    "                                    password='DM!$!Team!27@9!20&',\n",
    "                                    database='project_telecom',\n",
    "                                    auth_plugin='mysql_native_password')"
   ]
  },
  {
   "cell_type": "code",
   "execution_count": 3,
   "id": "41244fb2",
   "metadata": {},
   "outputs": [
    {
     "data": {
      "text/html": [
       "<div>\n",
       "<style scoped>\n",
       "    .dataframe tbody tr th:only-of-type {\n",
       "        vertical-align: middle;\n",
       "    }\n",
       "\n",
       "    .dataframe tbody tr th {\n",
       "        vertical-align: top;\n",
       "    }\n",
       "\n",
       "    .dataframe thead th {\n",
       "        text-align: right;\n",
       "    }\n",
       "</style>\n",
       "<table border=\"1\" class=\"dataframe\">\n",
       "  <thead>\n",
       "    <tr style=\"text-align: right;\">\n",
       "      <th></th>\n",
       "      <th>columns1</th>\n",
       "      <th>columns2</th>\n",
       "      <th>columns3</th>\n",
       "      <th>columns4</th>\n",
       "      <th>columns5</th>\n",
       "      <th>columns6</th>\n",
       "      <th>columns7</th>\n",
       "      <th>columns8</th>\n",
       "      <th>columns9</th>\n",
       "      <th>columns10</th>\n",
       "      <th>columns11</th>\n",
       "      <th>columns12</th>\n",
       "      <th>columns13</th>\n",
       "      <th>columns14</th>\n",
       "      <th>columns15</th>\n",
       "      <th>columns16</th>\n",
       "      <th>columns17</th>\n",
       "      <th>columns18</th>\n",
       "      <th>columns19</th>\n",
       "      <th>columns20</th>\n",
       "      <th>columns21</th>\n",
       "    </tr>\n",
       "  </thead>\n",
       "  <tbody>\n",
       "    <tr>\n",
       "      <th>0</th>\n",
       "      <td>KS</td>\n",
       "      <td>128</td>\n",
       "      <td>415</td>\n",
       "      <td>382-4657</td>\n",
       "      <td>no</td>\n",
       "      <td>yes</td>\n",
       "      <td>25</td>\n",
       "      <td>265.1</td>\n",
       "      <td>110</td>\n",
       "      <td>45.07</td>\n",
       "      <td>197.4</td>\n",
       "      <td>99</td>\n",
       "      <td>16.78</td>\n",
       "      <td>244.7</td>\n",
       "      <td>91</td>\n",
       "      <td>11.01</td>\n",
       "      <td>10</td>\n",
       "      <td>3</td>\n",
       "      <td>2.7</td>\n",
       "      <td>1</td>\n",
       "      <td>False.</td>\n",
       "    </tr>\n",
       "    <tr>\n",
       "      <th>1</th>\n",
       "      <td>OH</td>\n",
       "      <td>107</td>\n",
       "      <td>415</td>\n",
       "      <td>371-7191</td>\n",
       "      <td>no</td>\n",
       "      <td>yes</td>\n",
       "      <td>26</td>\n",
       "      <td>161.6</td>\n",
       "      <td>123</td>\n",
       "      <td>27.47</td>\n",
       "      <td>195.5</td>\n",
       "      <td>103</td>\n",
       "      <td>16.62</td>\n",
       "      <td>254.4</td>\n",
       "      <td>103</td>\n",
       "      <td>11.45</td>\n",
       "      <td>13.7</td>\n",
       "      <td>3</td>\n",
       "      <td>3.7</td>\n",
       "      <td>1</td>\n",
       "      <td>False.</td>\n",
       "    </tr>\n",
       "    <tr>\n",
       "      <th>2</th>\n",
       "      <td>NJ</td>\n",
       "      <td>137</td>\n",
       "      <td>415</td>\n",
       "      <td>358-1921</td>\n",
       "      <td>no</td>\n",
       "      <td>no</td>\n",
       "      <td>0</td>\n",
       "      <td>243.4</td>\n",
       "      <td>114</td>\n",
       "      <td>41.38</td>\n",
       "      <td>121.2</td>\n",
       "      <td>110</td>\n",
       "      <td>10.3</td>\n",
       "      <td>162.6</td>\n",
       "      <td>104</td>\n",
       "      <td>7.32</td>\n",
       "      <td>12.2</td>\n",
       "      <td>5</td>\n",
       "      <td>3.29</td>\n",
       "      <td>0</td>\n",
       "      <td>False.</td>\n",
       "    </tr>\n",
       "    <tr>\n",
       "      <th>3</th>\n",
       "      <td>OH</td>\n",
       "      <td>84</td>\n",
       "      <td>408</td>\n",
       "      <td>375-9999</td>\n",
       "      <td>yes</td>\n",
       "      <td>no</td>\n",
       "      <td>0</td>\n",
       "      <td>299.4</td>\n",
       "      <td>71</td>\n",
       "      <td>50.9</td>\n",
       "      <td>61.9</td>\n",
       "      <td>88</td>\n",
       "      <td>5.26</td>\n",
       "      <td>196.9</td>\n",
       "      <td>89</td>\n",
       "      <td>8.86</td>\n",
       "      <td>6.6</td>\n",
       "      <td>7</td>\n",
       "      <td>1.78</td>\n",
       "      <td>2</td>\n",
       "      <td>False.</td>\n",
       "    </tr>\n",
       "    <tr>\n",
       "      <th>4</th>\n",
       "      <td>OK</td>\n",
       "      <td>75</td>\n",
       "      <td>415</td>\n",
       "      <td>330-6626</td>\n",
       "      <td>yes</td>\n",
       "      <td>no</td>\n",
       "      <td>0</td>\n",
       "      <td>166.7</td>\n",
       "      <td>113</td>\n",
       "      <td>28.34</td>\n",
       "      <td>148.3</td>\n",
       "      <td>122</td>\n",
       "      <td>12.61</td>\n",
       "      <td>186.9</td>\n",
       "      <td>121</td>\n",
       "      <td>8.41</td>\n",
       "      <td>10.1</td>\n",
       "      <td>3</td>\n",
       "      <td>2.73</td>\n",
       "      <td>3</td>\n",
       "      <td>False.</td>\n",
       "    </tr>\n",
       "    <tr>\n",
       "      <th>...</th>\n",
       "      <td>...</td>\n",
       "      <td>...</td>\n",
       "      <td>...</td>\n",
       "      <td>...</td>\n",
       "      <td>...</td>\n",
       "      <td>...</td>\n",
       "      <td>...</td>\n",
       "      <td>...</td>\n",
       "      <td>...</td>\n",
       "      <td>...</td>\n",
       "      <td>...</td>\n",
       "      <td>...</td>\n",
       "      <td>...</td>\n",
       "      <td>...</td>\n",
       "      <td>...</td>\n",
       "      <td>...</td>\n",
       "      <td>...</td>\n",
       "      <td>...</td>\n",
       "      <td>...</td>\n",
       "      <td>...</td>\n",
       "      <td>...</td>\n",
       "    </tr>\n",
       "    <tr>\n",
       "      <th>4612</th>\n",
       "      <td>NY</td>\n",
       "      <td>57</td>\n",
       "      <td>510</td>\n",
       "      <td>345-7512</td>\n",
       "      <td>no</td>\n",
       "      <td>yes</td>\n",
       "      <td>25</td>\n",
       "      <td>144</td>\n",
       "      <td>81</td>\n",
       "      <td>24.48</td>\n",
       "      <td>187.2</td>\n",
       "      <td>112</td>\n",
       "      <td>15.91</td>\n",
       "      <td>158.6</td>\n",
       "      <td>122</td>\n",
       "      <td>7.14</td>\n",
       "      <td>8.5</td>\n",
       "      <td>6</td>\n",
       "      <td>2.3</td>\n",
       "      <td>3</td>\n",
       "      <td>False.</td>\n",
       "    </tr>\n",
       "    <tr>\n",
       "      <th>4613</th>\n",
       "      <td>NM</td>\n",
       "      <td>177</td>\n",
       "      <td>408</td>\n",
       "      <td>343-6820</td>\n",
       "      <td>no</td>\n",
       "      <td>yes</td>\n",
       "      <td>29</td>\n",
       "      <td>189</td>\n",
       "      <td>91</td>\n",
       "      <td>32.13</td>\n",
       "      <td>303.1</td>\n",
       "      <td>96</td>\n",
       "      <td>25.76</td>\n",
       "      <td>163.6</td>\n",
       "      <td>116</td>\n",
       "      <td>7.36</td>\n",
       "      <td>15.7</td>\n",
       "      <td>1</td>\n",
       "      <td>4.24</td>\n",
       "      <td>3</td>\n",
       "      <td>False.</td>\n",
       "    </tr>\n",
       "    <tr>\n",
       "      <th>4614</th>\n",
       "      <td>VT</td>\n",
       "      <td>67</td>\n",
       "      <td>408</td>\n",
       "      <td>338-4794</td>\n",
       "      <td>no</td>\n",
       "      <td>yes</td>\n",
       "      <td>33</td>\n",
       "      <td>127.5</td>\n",
       "      <td>126</td>\n",
       "      <td>21.68</td>\n",
       "      <td>296.1</td>\n",
       "      <td>129</td>\n",
       "      <td>25.17</td>\n",
       "      <td>200.9</td>\n",
       "      <td>91</td>\n",
       "      <td>9.04</td>\n",
       "      <td>13</td>\n",
       "      <td>3</td>\n",
       "      <td>3.51</td>\n",
       "      <td>1</td>\n",
       "      <td>False.</td>\n",
       "    </tr>\n",
       "    <tr>\n",
       "      <th>4615</th>\n",
       "      <td>MI</td>\n",
       "      <td>98</td>\n",
       "      <td>415</td>\n",
       "      <td>355-8388</td>\n",
       "      <td>no</td>\n",
       "      <td>yes</td>\n",
       "      <td>23</td>\n",
       "      <td>168.9</td>\n",
       "      <td>98</td>\n",
       "      <td>28.71</td>\n",
       "      <td>226.3</td>\n",
       "      <td>117</td>\n",
       "      <td>19.24</td>\n",
       "      <td>165.5</td>\n",
       "      <td>96</td>\n",
       "      <td>7.45</td>\n",
       "      <td>14.3</td>\n",
       "      <td>3</td>\n",
       "      <td>3.86</td>\n",
       "      <td>0</td>\n",
       "      <td>False.</td>\n",
       "    </tr>\n",
       "    <tr>\n",
       "      <th>4616</th>\n",
       "      <td>IN</td>\n",
       "      <td>140</td>\n",
       "      <td>415</td>\n",
       "      <td>409-6884</td>\n",
       "      <td>no</td>\n",
       "      <td>no</td>\n",
       "      <td>0</td>\n",
       "      <td>204.7</td>\n",
       "      <td>100</td>\n",
       "      <td>34.8</td>\n",
       "      <td>126.8</td>\n",
       "      <td>107</td>\n",
       "      <td>10.78</td>\n",
       "      <td>202.8</td>\n",
       "      <td>115</td>\n",
       "      <td>9.13</td>\n",
       "      <td>12.1</td>\n",
       "      <td>4</td>\n",
       "      <td>3.27</td>\n",
       "      <td>2</td>\n",
       "      <td>False.</td>\n",
       "    </tr>\n",
       "  </tbody>\n",
       "</table>\n",
       "<p>4617 rows × 21 columns</p>\n",
       "</div>"
      ],
      "text/plain": [
       "     columns1 columns2 columns3   columns4 columns5 columns6 columns7  \\\n",
       "0          KS      128      415   382-4657       no      yes       25   \n",
       "1          OH      107      415   371-7191       no      yes       26   \n",
       "2          NJ      137      415   358-1921       no       no        0   \n",
       "3          OH       84      408   375-9999      yes       no        0   \n",
       "4          OK       75      415   330-6626      yes       no        0   \n",
       "...       ...      ...      ...        ...      ...      ...      ...   \n",
       "4612       NY       57      510   345-7512       no      yes       25   \n",
       "4613       NM      177      408   343-6820       no      yes       29   \n",
       "4614       VT       67      408   338-4794       no      yes       33   \n",
       "4615       MI       98      415   355-8388       no      yes       23   \n",
       "4616       IN      140      415   409-6884       no       no        0   \n",
       "\n",
       "     columns8 columns9 columns10 columns11 columns12 columns13 columns14  \\\n",
       "0       265.1      110     45.07     197.4        99     16.78     244.7   \n",
       "1       161.6      123     27.47     195.5       103     16.62     254.4   \n",
       "2       243.4      114     41.38     121.2       110      10.3     162.6   \n",
       "3       299.4       71      50.9      61.9        88      5.26     196.9   \n",
       "4       166.7      113     28.34     148.3       122     12.61     186.9   \n",
       "...       ...      ...       ...       ...       ...       ...       ...   \n",
       "4612      144       81     24.48     187.2       112     15.91     158.6   \n",
       "4613      189       91     32.13     303.1        96     25.76     163.6   \n",
       "4614    127.5      126     21.68     296.1       129     25.17     200.9   \n",
       "4615    168.9       98     28.71     226.3       117     19.24     165.5   \n",
       "4616    204.7      100      34.8     126.8       107     10.78     202.8   \n",
       "\n",
       "     columns15 columns16 columns17 columns18 columns19 columns20 columns21  \n",
       "0           91     11.01        10         3       2.7         1    False.  \n",
       "1          103     11.45      13.7         3       3.7         1    False.  \n",
       "2          104      7.32      12.2         5      3.29         0    False.  \n",
       "3           89      8.86       6.6         7      1.78         2    False.  \n",
       "4          121      8.41      10.1         3      2.73         3    False.  \n",
       "...        ...       ...       ...       ...       ...       ...       ...  \n",
       "4612       122      7.14       8.5         6       2.3         3    False.  \n",
       "4613       116      7.36      15.7         1      4.24         3    False.  \n",
       "4614        91      9.04        13         3      3.51         1    False.  \n",
       "4615        96      7.45      14.3         3      3.86         0    False.  \n",
       "4616       115      9.13      12.1         4      3.27         2    False.  \n",
       "\n",
       "[4617 rows x 21 columns]"
      ]
     },
     "execution_count": 3,
     "metadata": {},
     "output_type": "execute_result"
    }
   ],
   "source": [
    "database ='select * from telecom_churn_data'\n",
    "df=pd.read_sql(database,connect)\n",
    "df"
   ]
  },
  {
   "cell_type": "code",
   "execution_count": 4,
   "id": "f6346284",
   "metadata": {},
   "outputs": [],
   "source": [
    "new_column_names = ['State', 'Account_Length', 'Area_Code', 'Phone',\n",
    "'International_Plan', 'VMail_Plan', 'VMail_Message',\n",
    "'Day_Mins', 'Day_Calls', 'Day_Charge',\n",
    "'Eve_Mins', 'Eve_Calls', 'Eve_Charge',\n",
    "'Night_Mins', 'Night_Calls', 'Night_Charge',\n",
    "'International_Mins', 'International_calls',\n",
    "'International_Charge', 'CustServ_Calls', 'Churn']"
   ]
  },
  {
   "cell_type": "code",
   "execution_count": 5,
   "id": "06e101ef",
   "metadata": {},
   "outputs": [],
   "source": [
    "df.columns =new_column_names"
   ]
  },
  {
   "cell_type": "code",
   "execution_count": 6,
   "id": "4239d764",
   "metadata": {},
   "outputs": [
    {
     "data": {
      "text/plain": [
       "Index(['State', 'Account_Length', 'Area_Code', 'Phone', 'International_Plan',\n",
       "       'VMail_Plan', 'VMail_Message', 'Day_Mins', 'Day_Calls', 'Day_Charge',\n",
       "       'Eve_Mins', 'Eve_Calls', 'Eve_Charge', 'Night_Mins', 'Night_Calls',\n",
       "       'Night_Charge', 'International_Mins', 'International_calls',\n",
       "       'International_Charge', 'CustServ_Calls', 'Churn'],\n",
       "      dtype='object')"
      ]
     },
     "execution_count": 6,
     "metadata": {},
     "output_type": "execute_result"
    }
   ],
   "source": [
    "df.columns"
   ]
  },
  {
   "cell_type": "markdown",
   "id": "32b33f55",
   "metadata": {},
   "source": [
    "# Basic checks"
   ]
  },
  {
   "cell_type": "code",
   "execution_count": 7,
   "id": "790758d4",
   "metadata": {},
   "outputs": [
    {
     "data": {
      "text/plain": [
       "(4617, 21)"
      ]
     },
     "execution_count": 7,
     "metadata": {},
     "output_type": "execute_result"
    }
   ],
   "source": [
    "df.shape"
   ]
  },
  {
   "cell_type": "code",
   "execution_count": 8,
   "id": "ef474faf",
   "metadata": {},
   "outputs": [
    {
     "data": {
      "text/html": [
       "<div>\n",
       "<style scoped>\n",
       "    .dataframe tbody tr th:only-of-type {\n",
       "        vertical-align: middle;\n",
       "    }\n",
       "\n",
       "    .dataframe tbody tr th {\n",
       "        vertical-align: top;\n",
       "    }\n",
       "\n",
       "    .dataframe thead th {\n",
       "        text-align: right;\n",
       "    }\n",
       "</style>\n",
       "<table border=\"1\" class=\"dataframe\">\n",
       "  <thead>\n",
       "    <tr style=\"text-align: right;\">\n",
       "      <th></th>\n",
       "      <th>State</th>\n",
       "      <th>Account_Length</th>\n",
       "      <th>Area_Code</th>\n",
       "      <th>Phone</th>\n",
       "      <th>International_Plan</th>\n",
       "      <th>VMail_Plan</th>\n",
       "      <th>VMail_Message</th>\n",
       "      <th>Day_Mins</th>\n",
       "      <th>Day_Calls</th>\n",
       "      <th>Day_Charge</th>\n",
       "      <th>Eve_Mins</th>\n",
       "      <th>Eve_Calls</th>\n",
       "      <th>Eve_Charge</th>\n",
       "      <th>Night_Mins</th>\n",
       "      <th>Night_Calls</th>\n",
       "      <th>Night_Charge</th>\n",
       "      <th>International_Mins</th>\n",
       "      <th>International_calls</th>\n",
       "      <th>International_Charge</th>\n",
       "      <th>CustServ_Calls</th>\n",
       "      <th>Churn</th>\n",
       "    </tr>\n",
       "  </thead>\n",
       "  <tbody>\n",
       "    <tr>\n",
       "      <th>0</th>\n",
       "      <td>KS</td>\n",
       "      <td>128</td>\n",
       "      <td>415</td>\n",
       "      <td>382-4657</td>\n",
       "      <td>no</td>\n",
       "      <td>yes</td>\n",
       "      <td>25</td>\n",
       "      <td>265.1</td>\n",
       "      <td>110</td>\n",
       "      <td>45.07</td>\n",
       "      <td>197.4</td>\n",
       "      <td>99</td>\n",
       "      <td>16.78</td>\n",
       "      <td>244.7</td>\n",
       "      <td>91</td>\n",
       "      <td>11.01</td>\n",
       "      <td>10</td>\n",
       "      <td>3</td>\n",
       "      <td>2.7</td>\n",
       "      <td>1</td>\n",
       "      <td>False.</td>\n",
       "    </tr>\n",
       "    <tr>\n",
       "      <th>1</th>\n",
       "      <td>OH</td>\n",
       "      <td>107</td>\n",
       "      <td>415</td>\n",
       "      <td>371-7191</td>\n",
       "      <td>no</td>\n",
       "      <td>yes</td>\n",
       "      <td>26</td>\n",
       "      <td>161.6</td>\n",
       "      <td>123</td>\n",
       "      <td>27.47</td>\n",
       "      <td>195.5</td>\n",
       "      <td>103</td>\n",
       "      <td>16.62</td>\n",
       "      <td>254.4</td>\n",
       "      <td>103</td>\n",
       "      <td>11.45</td>\n",
       "      <td>13.7</td>\n",
       "      <td>3</td>\n",
       "      <td>3.7</td>\n",
       "      <td>1</td>\n",
       "      <td>False.</td>\n",
       "    </tr>\n",
       "    <tr>\n",
       "      <th>2</th>\n",
       "      <td>NJ</td>\n",
       "      <td>137</td>\n",
       "      <td>415</td>\n",
       "      <td>358-1921</td>\n",
       "      <td>no</td>\n",
       "      <td>no</td>\n",
       "      <td>0</td>\n",
       "      <td>243.4</td>\n",
       "      <td>114</td>\n",
       "      <td>41.38</td>\n",
       "      <td>121.2</td>\n",
       "      <td>110</td>\n",
       "      <td>10.3</td>\n",
       "      <td>162.6</td>\n",
       "      <td>104</td>\n",
       "      <td>7.32</td>\n",
       "      <td>12.2</td>\n",
       "      <td>5</td>\n",
       "      <td>3.29</td>\n",
       "      <td>0</td>\n",
       "      <td>False.</td>\n",
       "    </tr>\n",
       "    <tr>\n",
       "      <th>3</th>\n",
       "      <td>OH</td>\n",
       "      <td>84</td>\n",
       "      <td>408</td>\n",
       "      <td>375-9999</td>\n",
       "      <td>yes</td>\n",
       "      <td>no</td>\n",
       "      <td>0</td>\n",
       "      <td>299.4</td>\n",
       "      <td>71</td>\n",
       "      <td>50.9</td>\n",
       "      <td>61.9</td>\n",
       "      <td>88</td>\n",
       "      <td>5.26</td>\n",
       "      <td>196.9</td>\n",
       "      <td>89</td>\n",
       "      <td>8.86</td>\n",
       "      <td>6.6</td>\n",
       "      <td>7</td>\n",
       "      <td>1.78</td>\n",
       "      <td>2</td>\n",
       "      <td>False.</td>\n",
       "    </tr>\n",
       "    <tr>\n",
       "      <th>4</th>\n",
       "      <td>OK</td>\n",
       "      <td>75</td>\n",
       "      <td>415</td>\n",
       "      <td>330-6626</td>\n",
       "      <td>yes</td>\n",
       "      <td>no</td>\n",
       "      <td>0</td>\n",
       "      <td>166.7</td>\n",
       "      <td>113</td>\n",
       "      <td>28.34</td>\n",
       "      <td>148.3</td>\n",
       "      <td>122</td>\n",
       "      <td>12.61</td>\n",
       "      <td>186.9</td>\n",
       "      <td>121</td>\n",
       "      <td>8.41</td>\n",
       "      <td>10.1</td>\n",
       "      <td>3</td>\n",
       "      <td>2.73</td>\n",
       "      <td>3</td>\n",
       "      <td>False.</td>\n",
       "    </tr>\n",
       "  </tbody>\n",
       "</table>\n",
       "</div>"
      ],
      "text/plain": [
       "  State Account_Length Area_Code      Phone International_Plan VMail_Plan  \\\n",
       "0    KS            128       415   382-4657                 no        yes   \n",
       "1    OH            107       415   371-7191                 no        yes   \n",
       "2    NJ            137       415   358-1921                 no         no   \n",
       "3    OH             84       408   375-9999                yes         no   \n",
       "4    OK             75       415   330-6626                yes         no   \n",
       "\n",
       "  VMail_Message Day_Mins Day_Calls Day_Charge Eve_Mins Eve_Calls Eve_Charge  \\\n",
       "0            25    265.1       110      45.07    197.4        99      16.78   \n",
       "1            26    161.6       123      27.47    195.5       103      16.62   \n",
       "2             0    243.4       114      41.38    121.2       110       10.3   \n",
       "3             0    299.4        71       50.9     61.9        88       5.26   \n",
       "4             0    166.7       113      28.34    148.3       122      12.61   \n",
       "\n",
       "  Night_Mins Night_Calls Night_Charge International_Mins International_calls  \\\n",
       "0      244.7          91        11.01                 10                   3   \n",
       "1      254.4         103        11.45               13.7                   3   \n",
       "2      162.6         104         7.32               12.2                   5   \n",
       "3      196.9          89         8.86                6.6                   7   \n",
       "4      186.9         121         8.41               10.1                   3   \n",
       "\n",
       "  International_Charge CustServ_Calls    Churn  \n",
       "0                  2.7              1   False.  \n",
       "1                  3.7              1   False.  \n",
       "2                 3.29              0   False.  \n",
       "3                 1.78              2   False.  \n",
       "4                 2.73              3   False.  "
      ]
     },
     "execution_count": 8,
     "metadata": {},
     "output_type": "execute_result"
    }
   ],
   "source": [
    "df.head()"
   ]
  },
  {
   "cell_type": "code",
   "execution_count": 9,
   "id": "cce9890c",
   "metadata": {},
   "outputs": [
    {
     "data": {
      "text/html": [
       "<div>\n",
       "<style scoped>\n",
       "    .dataframe tbody tr th:only-of-type {\n",
       "        vertical-align: middle;\n",
       "    }\n",
       "\n",
       "    .dataframe tbody tr th {\n",
       "        vertical-align: top;\n",
       "    }\n",
       "\n",
       "    .dataframe thead th {\n",
       "        text-align: right;\n",
       "    }\n",
       "</style>\n",
       "<table border=\"1\" class=\"dataframe\">\n",
       "  <thead>\n",
       "    <tr style=\"text-align: right;\">\n",
       "      <th></th>\n",
       "      <th>State</th>\n",
       "      <th>Account_Length</th>\n",
       "      <th>Area_Code</th>\n",
       "      <th>Phone</th>\n",
       "      <th>International_Plan</th>\n",
       "      <th>VMail_Plan</th>\n",
       "      <th>VMail_Message</th>\n",
       "      <th>Day_Mins</th>\n",
       "      <th>Day_Calls</th>\n",
       "      <th>Day_Charge</th>\n",
       "      <th>Eve_Mins</th>\n",
       "      <th>Eve_Calls</th>\n",
       "      <th>Eve_Charge</th>\n",
       "      <th>Night_Mins</th>\n",
       "      <th>Night_Calls</th>\n",
       "      <th>Night_Charge</th>\n",
       "      <th>International_Mins</th>\n",
       "      <th>International_calls</th>\n",
       "      <th>International_Charge</th>\n",
       "      <th>CustServ_Calls</th>\n",
       "      <th>Churn</th>\n",
       "    </tr>\n",
       "  </thead>\n",
       "  <tbody>\n",
       "    <tr>\n",
       "      <th>4612</th>\n",
       "      <td>NY</td>\n",
       "      <td>57</td>\n",
       "      <td>510</td>\n",
       "      <td>345-7512</td>\n",
       "      <td>no</td>\n",
       "      <td>yes</td>\n",
       "      <td>25</td>\n",
       "      <td>144</td>\n",
       "      <td>81</td>\n",
       "      <td>24.48</td>\n",
       "      <td>187.2</td>\n",
       "      <td>112</td>\n",
       "      <td>15.91</td>\n",
       "      <td>158.6</td>\n",
       "      <td>122</td>\n",
       "      <td>7.14</td>\n",
       "      <td>8.5</td>\n",
       "      <td>6</td>\n",
       "      <td>2.3</td>\n",
       "      <td>3</td>\n",
       "      <td>False.</td>\n",
       "    </tr>\n",
       "    <tr>\n",
       "      <th>4613</th>\n",
       "      <td>NM</td>\n",
       "      <td>177</td>\n",
       "      <td>408</td>\n",
       "      <td>343-6820</td>\n",
       "      <td>no</td>\n",
       "      <td>yes</td>\n",
       "      <td>29</td>\n",
       "      <td>189</td>\n",
       "      <td>91</td>\n",
       "      <td>32.13</td>\n",
       "      <td>303.1</td>\n",
       "      <td>96</td>\n",
       "      <td>25.76</td>\n",
       "      <td>163.6</td>\n",
       "      <td>116</td>\n",
       "      <td>7.36</td>\n",
       "      <td>15.7</td>\n",
       "      <td>1</td>\n",
       "      <td>4.24</td>\n",
       "      <td>3</td>\n",
       "      <td>False.</td>\n",
       "    </tr>\n",
       "    <tr>\n",
       "      <th>4614</th>\n",
       "      <td>VT</td>\n",
       "      <td>67</td>\n",
       "      <td>408</td>\n",
       "      <td>338-4794</td>\n",
       "      <td>no</td>\n",
       "      <td>yes</td>\n",
       "      <td>33</td>\n",
       "      <td>127.5</td>\n",
       "      <td>126</td>\n",
       "      <td>21.68</td>\n",
       "      <td>296.1</td>\n",
       "      <td>129</td>\n",
       "      <td>25.17</td>\n",
       "      <td>200.9</td>\n",
       "      <td>91</td>\n",
       "      <td>9.04</td>\n",
       "      <td>13</td>\n",
       "      <td>3</td>\n",
       "      <td>3.51</td>\n",
       "      <td>1</td>\n",
       "      <td>False.</td>\n",
       "    </tr>\n",
       "    <tr>\n",
       "      <th>4615</th>\n",
       "      <td>MI</td>\n",
       "      <td>98</td>\n",
       "      <td>415</td>\n",
       "      <td>355-8388</td>\n",
       "      <td>no</td>\n",
       "      <td>yes</td>\n",
       "      <td>23</td>\n",
       "      <td>168.9</td>\n",
       "      <td>98</td>\n",
       "      <td>28.71</td>\n",
       "      <td>226.3</td>\n",
       "      <td>117</td>\n",
       "      <td>19.24</td>\n",
       "      <td>165.5</td>\n",
       "      <td>96</td>\n",
       "      <td>7.45</td>\n",
       "      <td>14.3</td>\n",
       "      <td>3</td>\n",
       "      <td>3.86</td>\n",
       "      <td>0</td>\n",
       "      <td>False.</td>\n",
       "    </tr>\n",
       "    <tr>\n",
       "      <th>4616</th>\n",
       "      <td>IN</td>\n",
       "      <td>140</td>\n",
       "      <td>415</td>\n",
       "      <td>409-6884</td>\n",
       "      <td>no</td>\n",
       "      <td>no</td>\n",
       "      <td>0</td>\n",
       "      <td>204.7</td>\n",
       "      <td>100</td>\n",
       "      <td>34.8</td>\n",
       "      <td>126.8</td>\n",
       "      <td>107</td>\n",
       "      <td>10.78</td>\n",
       "      <td>202.8</td>\n",
       "      <td>115</td>\n",
       "      <td>9.13</td>\n",
       "      <td>12.1</td>\n",
       "      <td>4</td>\n",
       "      <td>3.27</td>\n",
       "      <td>2</td>\n",
       "      <td>False.</td>\n",
       "    </tr>\n",
       "  </tbody>\n",
       "</table>\n",
       "</div>"
      ],
      "text/plain": [
       "     State Account_Length Area_Code      Phone International_Plan VMail_Plan  \\\n",
       "4612    NY             57       510   345-7512                 no        yes   \n",
       "4613    NM            177       408   343-6820                 no        yes   \n",
       "4614    VT             67       408   338-4794                 no        yes   \n",
       "4615    MI             98       415   355-8388                 no        yes   \n",
       "4616    IN            140       415   409-6884                 no         no   \n",
       "\n",
       "     VMail_Message Day_Mins Day_Calls Day_Charge Eve_Mins Eve_Calls  \\\n",
       "4612            25      144        81      24.48    187.2       112   \n",
       "4613            29      189        91      32.13    303.1        96   \n",
       "4614            33    127.5       126      21.68    296.1       129   \n",
       "4615            23    168.9        98      28.71    226.3       117   \n",
       "4616             0    204.7       100       34.8    126.8       107   \n",
       "\n",
       "     Eve_Charge Night_Mins Night_Calls Night_Charge International_Mins  \\\n",
       "4612      15.91      158.6         122         7.14                8.5   \n",
       "4613      25.76      163.6         116         7.36               15.7   \n",
       "4614      25.17      200.9          91         9.04                 13   \n",
       "4615      19.24      165.5          96         7.45               14.3   \n",
       "4616      10.78      202.8         115         9.13               12.1   \n",
       "\n",
       "     International_calls International_Charge CustServ_Calls    Churn  \n",
       "4612                   6                  2.3              3   False.  \n",
       "4613                   1                 4.24              3   False.  \n",
       "4614                   3                 3.51              1   False.  \n",
       "4615                   3                 3.86              0   False.  \n",
       "4616                   4                 3.27              2   False.  "
      ]
     },
     "execution_count": 9,
     "metadata": {},
     "output_type": "execute_result"
    }
   ],
   "source": [
    "df.tail()"
   ]
  },
  {
   "cell_type": "code",
   "execution_count": 10,
   "id": "643db54c",
   "metadata": {},
   "outputs": [
    {
     "name": "stdout",
     "output_type": "stream",
     "text": [
      "<class 'pandas.core.frame.DataFrame'>\n",
      "RangeIndex: 4617 entries, 0 to 4616\n",
      "Data columns (total 21 columns):\n",
      " #   Column                Non-Null Count  Dtype \n",
      "---  ------                --------------  ----- \n",
      " 0   State                 4617 non-null   object\n",
      " 1   Account_Length        4617 non-null   object\n",
      " 2   Area_Code             4617 non-null   object\n",
      " 3   Phone                 4617 non-null   object\n",
      " 4   International_Plan    4617 non-null   object\n",
      " 5   VMail_Plan            4617 non-null   object\n",
      " 6   VMail_Message         4617 non-null   object\n",
      " 7   Day_Mins              4617 non-null   object\n",
      " 8   Day_Calls             4617 non-null   object\n",
      " 9   Day_Charge            4617 non-null   object\n",
      " 10  Eve_Mins              4617 non-null   object\n",
      " 11  Eve_Calls             4617 non-null   object\n",
      " 12  Eve_Charge            4617 non-null   object\n",
      " 13  Night_Mins            4617 non-null   object\n",
      " 14  Night_Calls           4617 non-null   object\n",
      " 15  Night_Charge          4617 non-null   object\n",
      " 16  International_Mins    4617 non-null   object\n",
      " 17  International_calls   4617 non-null   object\n",
      " 18  International_Charge  4617 non-null   object\n",
      " 19  CustServ_Calls        4617 non-null   object\n",
      " 20  Churn                 4617 non-null   object\n",
      "dtypes: object(21)\n",
      "memory usage: 757.6+ KB\n"
     ]
    }
   ],
   "source": [
    "df.info()"
   ]
  },
  {
   "cell_type": "code",
   "execution_count": 11,
   "id": "5f84c66d",
   "metadata": {},
   "outputs": [],
   "source": [
    "df.drop('Phone',axis=1,inplace=True)"
   ]
  },
  {
   "cell_type": "code",
   "execution_count": 12,
   "id": "f07962e4",
   "metadata": {},
   "outputs": [
    {
     "data": {
      "text/plain": [
       "State                     51\n",
       "Account_Length           218\n",
       "Area_Code                  3\n",
       "International_Plan         2\n",
       "VMail_Plan                 2\n",
       "VMail_Message             47\n",
       "Day_Mins                1901\n",
       "Day_Calls                123\n",
       "Day_Charge              1901\n",
       "Eve_Mins                1833\n",
       "Eve_Calls                125\n",
       "Eve_Charge              1621\n",
       "Night_Mins              1813\n",
       "Night_Calls              130\n",
       "Night_Charge            1012\n",
       "International_Mins       168\n",
       "International_calls       21\n",
       "International_Charge     168\n",
       "CustServ_Calls            10\n",
       "Churn                      2\n",
       "dtype: int64"
      ]
     },
     "execution_count": 12,
     "metadata": {},
     "output_type": "execute_result"
    }
   ],
   "source": [
    "df.nunique()"
   ]
  },
  {
   "cell_type": "markdown",
   "id": "341c8865",
   "metadata": {},
   "source": [
    "# Preprocessing"
   ]
  },
  {
   "cell_type": "code",
   "execution_count": 13,
   "id": "fd5c0613",
   "metadata": {},
   "outputs": [
    {
     "data": {
      "text/plain": [
       "State                   0\n",
       "Account_Length          0\n",
       "Area_Code               0\n",
       "International_Plan      0\n",
       "VMail_Plan              0\n",
       "VMail_Message           0\n",
       "Day_Mins                0\n",
       "Day_Calls               0\n",
       "Day_Charge              0\n",
       "Eve_Mins                0\n",
       "Eve_Calls               0\n",
       "Eve_Charge              0\n",
       "Night_Mins              0\n",
       "Night_Calls             0\n",
       "Night_Charge            0\n",
       "International_Mins      0\n",
       "International_calls     0\n",
       "International_Charge    0\n",
       "CustServ_Calls          0\n",
       "Churn                   0\n",
       "dtype: int64"
      ]
     },
     "execution_count": 13,
     "metadata": {},
     "output_type": "execute_result"
    }
   ],
   "source": [
    "df.isna().sum()"
   ]
  },
  {
   "cell_type": "code",
   "execution_count": 14,
   "id": "b0fb094b",
   "metadata": {},
   "outputs": [
    {
     "data": {
      "text/plain": [
       "0"
      ]
     },
     "execution_count": 14,
     "metadata": {},
     "output_type": "execute_result"
    }
   ],
   "source": [
    "df.duplicated().sum()"
   ]
  },
  {
   "cell_type": "markdown",
   "id": "633ebb87",
   "metadata": {},
   "source": [
    "## 1)State"
   ]
  },
  {
   "cell_type": "code",
   "execution_count": 15,
   "id": "42dbebbd",
   "metadata": {},
   "outputs": [
    {
     "data": {
      "text/plain": [
       "array(['KS', 'OH', 'NJ', 'OK', 'AL', 'MA', 'MO', 'LA', 'WV', 'IN', 'RI',\n",
       "       'IA', 'MT', 'NY', 'ID', 'VT', 'VA', 'TX', 'FL', 'CO', 'AZ', 'SC',\n",
       "       'NE', 'WY', 'HI', 'IL', 'NH', 'GA', 'AK', 'MD', 'AR', 'WI', 'OR',\n",
       "       'MI', 'DE', 'UT', 'CA', 'MN', 'SD', 'NC', 'WA', 'NM', 'NV', 'DC',\n",
       "       'KY', 'ME', 'MS', 'TN', 'PA', 'CT', 'ND'], dtype=object)"
      ]
     },
     "execution_count": 15,
     "metadata": {},
     "output_type": "execute_result"
    }
   ],
   "source": [
    "df.State.unique()"
   ]
  },
  {
   "cell_type": "code",
   "execution_count": 16,
   "id": "45fd8908",
   "metadata": {},
   "outputs": [
    {
     "data": {
      "text/plain": [
       "51"
      ]
     },
     "execution_count": 16,
     "metadata": {},
     "output_type": "execute_result"
    }
   ],
   "source": [
    "len(df.State.unique())"
   ]
  },
  {
   "cell_type": "code",
   "execution_count": 17,
   "id": "378550d5",
   "metadata": {},
   "outputs": [
    {
     "name": "stdout",
     "output_type": "stream",
     "text": [
      "State\n",
      "WV    149\n",
      "AL    114\n",
      "MN    112\n",
      "OH    110\n",
      "ID    110\n",
      "VA    109\n",
      "NY    109\n",
      "OR    107\n",
      "NJ    106\n",
      "WY    106\n",
      "TX    105\n",
      "UT    104\n",
      "WI     99\n",
      "MI     98\n",
      "MA     97\n",
      "KS     96\n",
      "VT     95\n",
      "ME     95\n",
      "CT     92\n",
      "MD     92\n",
      "MT     92\n",
      "MS     91\n",
      "NH     91\n",
      "CO     91\n",
      "KY     90\n",
      "RI     90\n",
      "NV     89\n",
      "IN     89\n",
      "DE     89\n",
      "WA     89\n",
      "FL     85\n",
      "NM     84\n",
      "MO     84\n",
      "SC     83\n",
      "NC     83\n",
      "TN     83\n",
      "DC     82\n",
      "AZ     81\n",
      "ND     80\n",
      "OK     80\n",
      "HI     79\n",
      "NE     79\n",
      "IL     79\n",
      "AR     77\n",
      "GA     77\n",
      "SD     76\n",
      "LA     73\n",
      "AK     69\n",
      "PA     68\n",
      "IA     65\n",
      "CA     44\n",
      "Name: count, dtype: int64\n"
     ]
    }
   ],
   "source": [
    "print(df['State'].value_counts())"
   ]
  },
  {
   "cell_type": "code",
   "execution_count": 18,
   "id": "ca05b40f",
   "metadata": {},
   "outputs": [
    {
     "data": {
      "text/plain": [
       "0       16\n",
       "1       35\n",
       "2       31\n",
       "3       35\n",
       "4       36\n",
       "        ..\n",
       "4612    34\n",
       "4613    32\n",
       "4614    46\n",
       "4615    22\n",
       "4616    15\n",
       "Name: State, Length: 4617, dtype: int32"
      ]
     },
     "execution_count": 18,
     "metadata": {},
     "output_type": "execute_result"
    }
   ],
   "source": [
    "le =LabelEncoder()\n",
    "df['State']=le.fit_transform(df.State)\n",
    "df['State']"
   ]
  },
  {
   "cell_type": "markdown",
   "id": "d7c1ce81",
   "metadata": {},
   "source": [
    "## 2) account length"
   ]
  },
  {
   "cell_type": "code",
   "execution_count": 19,
   "id": "bdca9d68",
   "metadata": {},
   "outputs": [
    {
     "data": {
      "text/plain": [
       "0       128\n",
       "1       107\n",
       "2       137\n",
       "3        84\n",
       "4        75\n",
       "       ... \n",
       "4612     57\n",
       "4613    177\n",
       "4614     67\n",
       "4615     98\n",
       "4616    140\n",
       "Name: Account_Length, Length: 4617, dtype: object"
      ]
     },
     "execution_count": 19,
     "metadata": {},
     "output_type": "execute_result"
    }
   ],
   "source": [
    "df.Account_Length"
   ]
  },
  {
   "cell_type": "code",
   "execution_count": 20,
   "id": "0e94ad34",
   "metadata": {},
   "outputs": [
    {
     "data": {
      "text/plain": [
       "0       128\n",
       "1       107\n",
       "2       137\n",
       "3        84\n",
       "4        75\n",
       "       ... \n",
       "4612     57\n",
       "4613    177\n",
       "4614     67\n",
       "4615     98\n",
       "4616    140\n",
       "Name: Account_Length, Length: 4617, dtype: int32"
      ]
     },
     "execution_count": 20,
     "metadata": {},
     "output_type": "execute_result"
    }
   ],
   "source": [
    "df.Account_Length =df.Account_Length.astype('int32')\n",
    "df.Account_Length"
   ]
  },
  {
   "cell_type": "markdown",
   "id": "2c4c0569",
   "metadata": {},
   "source": [
    "## 3) Area_code"
   ]
  },
  {
   "cell_type": "code",
   "execution_count": 21,
   "id": "72f81206",
   "metadata": {},
   "outputs": [
    {
     "data": {
      "text/plain": [
       "0       415\n",
       "1       415\n",
       "2       415\n",
       "3       408\n",
       "4       415\n",
       "       ... \n",
       "4612    510\n",
       "4613    408\n",
       "4614    408\n",
       "4615    415\n",
       "4616    415\n",
       "Name: Area_Code, Length: 4617, dtype: object"
      ]
     },
     "execution_count": 21,
     "metadata": {},
     "output_type": "execute_result"
    }
   ],
   "source": [
    "df.Area_Code"
   ]
  },
  {
   "cell_type": "code",
   "execution_count": 22,
   "id": "3c30f999",
   "metadata": {},
   "outputs": [
    {
     "data": {
      "text/plain": [
       "0       415\n",
       "1       415\n",
       "2       415\n",
       "3       408\n",
       "4       415\n",
       "       ... \n",
       "4612    510\n",
       "4613    408\n",
       "4614    408\n",
       "4615    415\n",
       "4616    415\n",
       "Name: Area_Code, Length: 4617, dtype: int32"
      ]
     },
     "execution_count": 22,
     "metadata": {},
     "output_type": "execute_result"
    }
   ],
   "source": [
    "df.Area_Code =df.Area_Code.astype('int32')\n",
    "df.Area_Code"
   ]
  },
  {
   "cell_type": "markdown",
   "id": "fa7b4cdc",
   "metadata": {},
   "source": [
    "## 4) International_Plan"
   ]
  },
  {
   "cell_type": "code",
   "execution_count": 23,
   "id": "f12e089e",
   "metadata": {},
   "outputs": [
    {
     "data": {
      "text/plain": [
       "0         no\n",
       "1         no\n",
       "2         no\n",
       "3        yes\n",
       "4        yes\n",
       "        ... \n",
       "4612      no\n",
       "4613      no\n",
       "4614      no\n",
       "4615      no\n",
       "4616      no\n",
       "Name: International_Plan, Length: 4617, dtype: object"
      ]
     },
     "execution_count": 23,
     "metadata": {},
     "output_type": "execute_result"
    }
   ],
   "source": [
    "df.International_Plan"
   ]
  },
  {
   "cell_type": "code",
   "execution_count": 24,
   "id": "909a7b8a",
   "metadata": {},
   "outputs": [
    {
     "data": {
      "text/plain": [
       "0       0\n",
       "1       0\n",
       "2       0\n",
       "3       1\n",
       "4       1\n",
       "       ..\n",
       "4612    0\n",
       "4613    0\n",
       "4614    0\n",
       "4615    0\n",
       "4616    0\n",
       "Name: International_Plan, Length: 4617, dtype: int32"
      ]
     },
     "execution_count": 24,
     "metadata": {},
     "output_type": "execute_result"
    }
   ],
   "source": [
    "df.International_Plan =le.fit_transform(df.International_Plan)\n",
    "df.International_Plan"
   ]
  },
  {
   "cell_type": "markdown",
   "id": "9494155c",
   "metadata": {},
   "source": [
    "## 5) VMail_Plan"
   ]
  },
  {
   "cell_type": "code",
   "execution_count": 25,
   "id": "47dfec8a",
   "metadata": {},
   "outputs": [
    {
     "data": {
      "text/plain": [
       "0        yes\n",
       "1        yes\n",
       "2         no\n",
       "3         no\n",
       "4         no\n",
       "        ... \n",
       "4612     yes\n",
       "4613     yes\n",
       "4614     yes\n",
       "4615     yes\n",
       "4616      no\n",
       "Name: VMail_Plan, Length: 4617, dtype: object"
      ]
     },
     "execution_count": 25,
     "metadata": {},
     "output_type": "execute_result"
    }
   ],
   "source": [
    "df.VMail_Plan"
   ]
  },
  {
   "cell_type": "code",
   "execution_count": 26,
   "id": "0f2e131e",
   "metadata": {},
   "outputs": [
    {
     "data": {
      "text/plain": [
       "0       1\n",
       "1       1\n",
       "2       0\n",
       "3       0\n",
       "4       0\n",
       "       ..\n",
       "4612    1\n",
       "4613    1\n",
       "4614    1\n",
       "4615    1\n",
       "4616    0\n",
       "Name: VMail_Plan, Length: 4617, dtype: int32"
      ]
     },
     "execution_count": 26,
     "metadata": {},
     "output_type": "execute_result"
    }
   ],
   "source": [
    "df.VMail_Plan =le.fit_transform(df.VMail_Plan)\n",
    "df.VMail_Plan"
   ]
  },
  {
   "cell_type": "markdown",
   "id": "03963482",
   "metadata": {},
   "source": [
    "## 6) VMail_Message"
   ]
  },
  {
   "cell_type": "code",
   "execution_count": 27,
   "id": "91ff24f5",
   "metadata": {},
   "outputs": [
    {
     "data": {
      "text/plain": [
       "0       25\n",
       "1       26\n",
       "2        0\n",
       "3        0\n",
       "4        0\n",
       "        ..\n",
       "4612    25\n",
       "4613    29\n",
       "4614    33\n",
       "4615    23\n",
       "4616     0\n",
       "Name: VMail_Message, Length: 4617, dtype: object"
      ]
     },
     "execution_count": 27,
     "metadata": {},
     "output_type": "execute_result"
    }
   ],
   "source": [
    "df.VMail_Message"
   ]
  },
  {
   "cell_type": "code",
   "execution_count": 28,
   "id": "051e35cc",
   "metadata": {},
   "outputs": [
    {
     "data": {
      "text/plain": [
       "0       25\n",
       "1       26\n",
       "2        0\n",
       "3        0\n",
       "4        0\n",
       "        ..\n",
       "4612    25\n",
       "4613    29\n",
       "4614    33\n",
       "4615    23\n",
       "4616     0\n",
       "Name: VMail_Message, Length: 4617, dtype: int32"
      ]
     },
     "execution_count": 28,
     "metadata": {},
     "output_type": "execute_result"
    }
   ],
   "source": [
    "df.VMail_Message =df.VMail_Message.astype('int32')\n",
    "df.VMail_Message"
   ]
  },
  {
   "cell_type": "markdown",
   "id": "eae815c7",
   "metadata": {},
   "source": [
    "## 7) Day_Mins"
   ]
  },
  {
   "cell_type": "code",
   "execution_count": 29,
   "id": "f6248451",
   "metadata": {},
   "outputs": [
    {
     "data": {
      "text/plain": [
       "0       265.1\n",
       "1       161.6\n",
       "2       243.4\n",
       "3       299.4\n",
       "4       166.7\n",
       "        ...  \n",
       "4612      144\n",
       "4613      189\n",
       "4614    127.5\n",
       "4615    168.9\n",
       "4616    204.7\n",
       "Name: Day_Mins, Length: 4617, dtype: object"
      ]
     },
     "execution_count": 29,
     "metadata": {},
     "output_type": "execute_result"
    }
   ],
   "source": [
    "df.Day_Mins"
   ]
  },
  {
   "cell_type": "code",
   "execution_count": 30,
   "id": "dce5e374",
   "metadata": {},
   "outputs": [
    {
     "data": {
      "text/plain": [
       "0       265.100006\n",
       "1       161.600006\n",
       "2       243.399994\n",
       "3       299.399994\n",
       "4       166.699997\n",
       "           ...    \n",
       "4612    144.000000\n",
       "4613    189.000000\n",
       "4614    127.500000\n",
       "4615    168.899994\n",
       "4616    204.699997\n",
       "Name: Day_Mins, Length: 4617, dtype: float32"
      ]
     },
     "execution_count": 30,
     "metadata": {},
     "output_type": "execute_result"
    }
   ],
   "source": [
    "df.Day_Mins =df.Day_Mins.astype('float32')\n",
    "df.Day_Mins"
   ]
  },
  {
   "cell_type": "markdown",
   "id": "99b3d59a",
   "metadata": {},
   "source": [
    "## 8) Day_Calls"
   ]
  },
  {
   "cell_type": "code",
   "execution_count": 31,
   "id": "7bf1045e",
   "metadata": {},
   "outputs": [
    {
     "data": {
      "text/plain": [
       "0       110\n",
       "1       123\n",
       "2       114\n",
       "3        71\n",
       "4       113\n",
       "       ... \n",
       "4612     81\n",
       "4613     91\n",
       "4614    126\n",
       "4615     98\n",
       "4616    100\n",
       "Name: Day_Calls, Length: 4617, dtype: object"
      ]
     },
     "execution_count": 31,
     "metadata": {},
     "output_type": "execute_result"
    }
   ],
   "source": [
    "df.Day_Calls"
   ]
  },
  {
   "cell_type": "code",
   "execution_count": 32,
   "id": "c3097f8e",
   "metadata": {},
   "outputs": [
    {
     "data": {
      "text/plain": [
       "0       110\n",
       "1       123\n",
       "2       114\n",
       "3        71\n",
       "4       113\n",
       "       ... \n",
       "4612     81\n",
       "4613     91\n",
       "4614    126\n",
       "4615     98\n",
       "4616    100\n",
       "Name: Day_Calls, Length: 4617, dtype: int32"
      ]
     },
     "execution_count": 32,
     "metadata": {},
     "output_type": "execute_result"
    }
   ],
   "source": [
    "df.Day_Calls =df.Day_Calls.astype('int32')\n",
    "df.Day_Calls"
   ]
  },
  {
   "cell_type": "markdown",
   "id": "6800ebd0",
   "metadata": {},
   "source": [
    "## 9)Day_Charge"
   ]
  },
  {
   "cell_type": "code",
   "execution_count": 33,
   "id": "939bcbcb",
   "metadata": {},
   "outputs": [
    {
     "data": {
      "text/plain": [
       "0       45.07\n",
       "1       27.47\n",
       "2       41.38\n",
       "3        50.9\n",
       "4       28.34\n",
       "        ...  \n",
       "4612    24.48\n",
       "4613    32.13\n",
       "4614    21.68\n",
       "4615    28.71\n",
       "4616     34.8\n",
       "Name: Day_Charge, Length: 4617, dtype: object"
      ]
     },
     "execution_count": 33,
     "metadata": {},
     "output_type": "execute_result"
    }
   ],
   "source": [
    "df.Day_Charge"
   ]
  },
  {
   "cell_type": "code",
   "execution_count": 34,
   "id": "369025e5",
   "metadata": {},
   "outputs": [
    {
     "data": {
      "text/plain": [
       "0       45.070000\n",
       "1       27.469999\n",
       "2       41.380001\n",
       "3       50.900002\n",
       "4       28.340000\n",
       "          ...    \n",
       "4612    24.480000\n",
       "4613    32.130001\n",
       "4614    21.680000\n",
       "4615    28.709999\n",
       "4616    34.799999\n",
       "Name: Day_Charge, Length: 4617, dtype: float32"
      ]
     },
     "execution_count": 34,
     "metadata": {},
     "output_type": "execute_result"
    }
   ],
   "source": [
    "df.Day_Charge =df.Day_Charge.astype('float32')\n",
    "df.Day_Charge"
   ]
  },
  {
   "cell_type": "markdown",
   "id": "9f4f3c55",
   "metadata": {},
   "source": [
    "## 10)Eve_Mins"
   ]
  },
  {
   "cell_type": "code",
   "execution_count": 35,
   "id": "dca21861",
   "metadata": {},
   "outputs": [
    {
     "data": {
      "text/plain": [
       "0       197.4\n",
       "1       195.5\n",
       "2       121.2\n",
       "3        61.9\n",
       "4       148.3\n",
       "        ...  \n",
       "4612    187.2\n",
       "4613    303.1\n",
       "4614    296.1\n",
       "4615    226.3\n",
       "4616    126.8\n",
       "Name: Eve_Mins, Length: 4617, dtype: object"
      ]
     },
     "execution_count": 35,
     "metadata": {},
     "output_type": "execute_result"
    }
   ],
   "source": [
    "df.Eve_Mins"
   ]
  },
  {
   "cell_type": "code",
   "execution_count": 36,
   "id": "565bf69a",
   "metadata": {},
   "outputs": [
    {
     "data": {
      "text/plain": [
       "0       197.399994\n",
       "1       195.500000\n",
       "2       121.199997\n",
       "3        61.900002\n",
       "4       148.300003\n",
       "           ...    \n",
       "4612    187.199997\n",
       "4613    303.100006\n",
       "4614    296.100006\n",
       "4615    226.300003\n",
       "4616    126.800003\n",
       "Name: Eve_Mins, Length: 4617, dtype: float32"
      ]
     },
     "execution_count": 36,
     "metadata": {},
     "output_type": "execute_result"
    }
   ],
   "source": [
    "df.Eve_Mins =df.Eve_Mins.astype('float32')\n",
    "df.Eve_Mins"
   ]
  },
  {
   "cell_type": "markdown",
   "id": "a383a6c9",
   "metadata": {},
   "source": [
    "## 11)Eve_Calls"
   ]
  },
  {
   "cell_type": "code",
   "execution_count": 37,
   "id": "dde3034a",
   "metadata": {},
   "outputs": [
    {
     "data": {
      "text/plain": [
       "0        99\n",
       "1       103\n",
       "2       110\n",
       "3        88\n",
       "4       122\n",
       "       ... \n",
       "4612    112\n",
       "4613     96\n",
       "4614    129\n",
       "4615    117\n",
       "4616    107\n",
       "Name: Eve_Calls, Length: 4617, dtype: object"
      ]
     },
     "execution_count": 37,
     "metadata": {},
     "output_type": "execute_result"
    }
   ],
   "source": [
    "df.Eve_Calls"
   ]
  },
  {
   "cell_type": "code",
   "execution_count": 38,
   "id": "d1955008",
   "metadata": {},
   "outputs": [
    {
     "data": {
      "text/plain": [
       "0        99\n",
       "1       103\n",
       "2       110\n",
       "3        88\n",
       "4       122\n",
       "       ... \n",
       "4612    112\n",
       "4613     96\n",
       "4614    129\n",
       "4615    117\n",
       "4616    107\n",
       "Name: Eve_Calls, Length: 4617, dtype: int32"
      ]
     },
     "execution_count": 38,
     "metadata": {},
     "output_type": "execute_result"
    }
   ],
   "source": [
    "df.Eve_Calls =df.Eve_Calls.astype('int32')\n",
    "df.Eve_Calls"
   ]
  },
  {
   "cell_type": "markdown",
   "id": "eeb81f21",
   "metadata": {},
   "source": [
    "## 12)Night_Mins"
   ]
  },
  {
   "cell_type": "code",
   "execution_count": 39,
   "id": "0db8cc0f",
   "metadata": {},
   "outputs": [
    {
     "data": {
      "text/plain": [
       "0       244.7\n",
       "1       254.4\n",
       "2       162.6\n",
       "3       196.9\n",
       "4       186.9\n",
       "        ...  \n",
       "4612    158.6\n",
       "4613    163.6\n",
       "4614    200.9\n",
       "4615    165.5\n",
       "4616    202.8\n",
       "Name: Night_Mins, Length: 4617, dtype: object"
      ]
     },
     "execution_count": 39,
     "metadata": {},
     "output_type": "execute_result"
    }
   ],
   "source": [
    "df.Night_Mins"
   ]
  },
  {
   "cell_type": "code",
   "execution_count": 40,
   "id": "3cdf848d",
   "metadata": {},
   "outputs": [
    {
     "data": {
      "text/plain": [
       "0       244.699997\n",
       "1       254.399994\n",
       "2       162.600006\n",
       "3       196.899994\n",
       "4       186.899994\n",
       "           ...    \n",
       "4612    158.600006\n",
       "4613    163.600006\n",
       "4614    200.899994\n",
       "4615    165.500000\n",
       "4616    202.800003\n",
       "Name: Night_Mins, Length: 4617, dtype: float32"
      ]
     },
     "execution_count": 40,
     "metadata": {},
     "output_type": "execute_result"
    }
   ],
   "source": [
    "df.Night_Mins=df.Night_Mins.astype('float32')            \n",
    "df.Night_Mins"
   ]
  },
  {
   "cell_type": "markdown",
   "id": "303bb29c",
   "metadata": {},
   "source": [
    "## 13)Night_Charge"
   ]
  },
  {
   "cell_type": "code",
   "execution_count": 41,
   "id": "880b02b2",
   "metadata": {},
   "outputs": [
    {
     "data": {
      "text/plain": [
       "0       11.01\n",
       "1       11.45\n",
       "2        7.32\n",
       "3        8.86\n",
       "4        8.41\n",
       "        ...  \n",
       "4612     7.14\n",
       "4613     7.36\n",
       "4614     9.04\n",
       "4615     7.45\n",
       "4616     9.13\n",
       "Name: Night_Charge, Length: 4617, dtype: object"
      ]
     },
     "execution_count": 41,
     "metadata": {},
     "output_type": "execute_result"
    }
   ],
   "source": [
    "df.Night_Charge"
   ]
  },
  {
   "cell_type": "code",
   "execution_count": 42,
   "id": "727afa0a",
   "metadata": {},
   "outputs": [
    {
     "data": {
      "text/plain": [
       "0       11.01\n",
       "1       11.45\n",
       "2        7.32\n",
       "3        8.86\n",
       "4        8.41\n",
       "        ...  \n",
       "4612     7.14\n",
       "4613     7.36\n",
       "4614     9.04\n",
       "4615     7.45\n",
       "4616     9.13\n",
       "Name: Night_Charge, Length: 4617, dtype: float32"
      ]
     },
     "execution_count": 42,
     "metadata": {},
     "output_type": "execute_result"
    }
   ],
   "source": [
    "df.Night_Charge =df.Night_Charge.astype('float32')\n",
    "df.Night_Charge"
   ]
  },
  {
   "cell_type": "markdown",
   "id": "69840668",
   "metadata": {},
   "source": [
    "## Night_Calls"
   ]
  },
  {
   "cell_type": "code",
   "execution_count": 43,
   "id": "1d70da1b",
   "metadata": {},
   "outputs": [
    {
     "data": {
      "text/plain": [
       "0        91\n",
       "1       103\n",
       "2       104\n",
       "3        89\n",
       "4       121\n",
       "       ... \n",
       "4612    122\n",
       "4613    116\n",
       "4614     91\n",
       "4615     96\n",
       "4616    115\n",
       "Name: Night_Calls, Length: 4617, dtype: object"
      ]
     },
     "execution_count": 43,
     "metadata": {},
     "output_type": "execute_result"
    }
   ],
   "source": [
    "df.Night_Calls"
   ]
  },
  {
   "cell_type": "code",
   "execution_count": 44,
   "id": "437120eb",
   "metadata": {},
   "outputs": [
    {
     "data": {
      "text/plain": [
       "0        91\n",
       "1       103\n",
       "2       104\n",
       "3        89\n",
       "4       121\n",
       "       ... \n",
       "4612    122\n",
       "4613    116\n",
       "4614     91\n",
       "4615     96\n",
       "4616    115\n",
       "Name: Night_Calls, Length: 4617, dtype: int32"
      ]
     },
     "execution_count": 44,
     "metadata": {},
     "output_type": "execute_result"
    }
   ],
   "source": [
    "df.Night_Calls = df.Night_Calls.astype('int32')\n",
    "df.Night_Calls"
   ]
  },
  {
   "cell_type": "markdown",
   "id": "fb80485b",
   "metadata": {},
   "source": [
    "## Eve_Charge"
   ]
  },
  {
   "cell_type": "code",
   "execution_count": 45,
   "id": "924c4eae",
   "metadata": {},
   "outputs": [
    {
     "data": {
      "text/plain": [
       "0       16.78\n",
       "1       16.62\n",
       "2        10.3\n",
       "3        5.26\n",
       "4       12.61\n",
       "        ...  \n",
       "4612    15.91\n",
       "4613    25.76\n",
       "4614    25.17\n",
       "4615    19.24\n",
       "4616    10.78\n",
       "Name: Eve_Charge, Length: 4617, dtype: object"
      ]
     },
     "execution_count": 45,
     "metadata": {},
     "output_type": "execute_result"
    }
   ],
   "source": [
    "df.Eve_Charge"
   ]
  },
  {
   "cell_type": "code",
   "execution_count": 46,
   "id": "58ff4c03",
   "metadata": {},
   "outputs": [
    {
     "data": {
      "text/plain": [
       "0       16.780001\n",
       "1       16.620001\n",
       "2       10.300000\n",
       "3        5.260000\n",
       "4       12.610000\n",
       "          ...    \n",
       "4612    15.910000\n",
       "4613    25.760000\n",
       "4614    25.170000\n",
       "4615    19.240000\n",
       "4616    10.780000\n",
       "Name: Eve_Charge, Length: 4617, dtype: float32"
      ]
     },
     "execution_count": 46,
     "metadata": {},
     "output_type": "execute_result"
    }
   ],
   "source": [
    "df.Eve_Charge =df.Eve_Charge.astype('float32')\n",
    "df.Eve_Charge"
   ]
  },
  {
   "cell_type": "markdown",
   "id": "55f44782",
   "metadata": {},
   "source": [
    "## 14)International_Mins\n",
    "df.International_Mins"
   ]
  },
  {
   "cell_type": "code",
   "execution_count": 47,
   "id": "84ac3e4a",
   "metadata": {},
   "outputs": [
    {
     "data": {
      "text/plain": [
       "0       10.0\n",
       "1       13.7\n",
       "2       12.2\n",
       "3        6.6\n",
       "4       10.1\n",
       "        ... \n",
       "4612     8.5\n",
       "4613    15.7\n",
       "4614    13.0\n",
       "4615    14.3\n",
       "4616    12.1\n",
       "Name: International_Mins, Length: 4617, dtype: float32"
      ]
     },
     "execution_count": 47,
     "metadata": {},
     "output_type": "execute_result"
    }
   ],
   "source": [
    "df.International_Mins =df.International_Mins.astype('float32')\n",
    "df.International_Mins"
   ]
  },
  {
   "cell_type": "markdown",
   "id": "89bf88e6",
   "metadata": {},
   "source": [
    "## 15)International_Calls "
   ]
  },
  {
   "cell_type": "code",
   "execution_count": 48,
   "id": "0b1aaa9a",
   "metadata": {},
   "outputs": [
    {
     "data": {
      "text/plain": [
       "0       3\n",
       "1       3\n",
       "2       5\n",
       "3       7\n",
       "4       3\n",
       "       ..\n",
       "4612    6\n",
       "4613    1\n",
       "4614    3\n",
       "4615    3\n",
       "4616    4\n",
       "Name: International_calls, Length: 4617, dtype: object"
      ]
     },
     "execution_count": 48,
     "metadata": {},
     "output_type": "execute_result"
    }
   ],
   "source": [
    "df.International_calls"
   ]
  },
  {
   "cell_type": "code",
   "execution_count": 49,
   "id": "523e1afe",
   "metadata": {},
   "outputs": [
    {
     "data": {
      "text/plain": [
       "0       3\n",
       "1       3\n",
       "2       5\n",
       "3       7\n",
       "4       3\n",
       "       ..\n",
       "4612    6\n",
       "4613    1\n",
       "4614    3\n",
       "4615    3\n",
       "4616    4\n",
       "Name: International_calls, Length: 4617, dtype: int32"
      ]
     },
     "execution_count": 49,
     "metadata": {},
     "output_type": "execute_result"
    }
   ],
   "source": [
    "df.International_calls =df.International_calls.astype('int32')\n",
    "df.International_calls"
   ]
  },
  {
   "cell_type": "markdown",
   "id": "67efe0fe",
   "metadata": {},
   "source": [
    "## 16) International_Charge\n",
    "df.International_Charge"
   ]
  },
  {
   "cell_type": "code",
   "execution_count": 50,
   "id": "b3c06dbe",
   "metadata": {},
   "outputs": [
    {
     "data": {
      "text/plain": [
       "0       2.70\n",
       "1       3.70\n",
       "2       3.29\n",
       "3       1.78\n",
       "4       2.73\n",
       "        ... \n",
       "4612    2.30\n",
       "4613    4.24\n",
       "4614    3.51\n",
       "4615    3.86\n",
       "4616    3.27\n",
       "Name: International_Charge, Length: 4617, dtype: float32"
      ]
     },
     "execution_count": 50,
     "metadata": {},
     "output_type": "execute_result"
    }
   ],
   "source": [
    "df.International_Charge =df.International_Charge.astype('float32')\n",
    "df.International_Charge"
   ]
  },
  {
   "cell_type": "markdown",
   "id": "cafa3154",
   "metadata": {},
   "source": [
    "## 17) CustServ_Calls"
   ]
  },
  {
   "cell_type": "code",
   "execution_count": 51,
   "id": "ff2fa9ac",
   "metadata": {},
   "outputs": [
    {
     "data": {
      "text/plain": [
       "0       1\n",
       "1       1\n",
       "2       0\n",
       "3       2\n",
       "4       3\n",
       "       ..\n",
       "4612    3\n",
       "4613    3\n",
       "4614    1\n",
       "4615    0\n",
       "4616    2\n",
       "Name: CustServ_Calls, Length: 4617, dtype: object"
      ]
     },
     "execution_count": 51,
     "metadata": {},
     "output_type": "execute_result"
    }
   ],
   "source": [
    "df.CustServ_Calls"
   ]
  },
  {
   "cell_type": "code",
   "execution_count": 52,
   "id": "fee60f61",
   "metadata": {},
   "outputs": [
    {
     "data": {
      "text/plain": [
       "0       1\n",
       "1       1\n",
       "2       0\n",
       "3       2\n",
       "4       3\n",
       "       ..\n",
       "4612    3\n",
       "4613    3\n",
       "4614    1\n",
       "4615    0\n",
       "4616    2\n",
       "Name: CustServ_Calls, Length: 4617, dtype: int32"
      ]
     },
     "execution_count": 52,
     "metadata": {},
     "output_type": "execute_result"
    }
   ],
   "source": [
    "df.CustServ_Calls =df.CustServ_Calls.astype('int32')\n",
    "df.CustServ_Calls"
   ]
  },
  {
   "cell_type": "markdown",
   "id": "3d127b74",
   "metadata": {},
   "source": [
    "## 18)Churn"
   ]
  },
  {
   "cell_type": "code",
   "execution_count": 53,
   "id": "b47b53c3",
   "metadata": {},
   "outputs": [
    {
     "data": {
      "text/plain": [
       "0        False.\n",
       "1        False.\n",
       "2        False.\n",
       "3        False.\n",
       "4        False.\n",
       "         ...   \n",
       "4612     False.\n",
       "4613     False.\n",
       "4614     False.\n",
       "4615     False.\n",
       "4616     False.\n",
       "Name: Churn, Length: 4617, dtype: object"
      ]
     },
     "execution_count": 53,
     "metadata": {},
     "output_type": "execute_result"
    }
   ],
   "source": [
    "df.Churn"
   ]
  },
  {
   "cell_type": "code",
   "execution_count": 54,
   "id": "00924601",
   "metadata": {},
   "outputs": [
    {
     "data": {
      "text/plain": [
       "0       0\n",
       "1       0\n",
       "2       0\n",
       "3       0\n",
       "4       0\n",
       "       ..\n",
       "4612    0\n",
       "4613    0\n",
       "4614    0\n",
       "4615    0\n",
       "4616    0\n",
       "Name: Churn, Length: 4617, dtype: int32"
      ]
     },
     "execution_count": 54,
     "metadata": {},
     "output_type": "execute_result"
    }
   ],
   "source": [
    "df.Churn =le.fit_transform(df.Churn)\n",
    "df.Churn"
   ]
  },
  {
   "cell_type": "code",
   "execution_count": 55,
   "id": "d771a54d",
   "metadata": {},
   "outputs": [
    {
     "data": {
      "text/plain": [
       "Churn\n",
       "0    3961\n",
       "1     656\n",
       "Name: count, dtype: int64"
      ]
     },
     "execution_count": 55,
     "metadata": {},
     "output_type": "execute_result"
    }
   ],
   "source": [
    "df.Churn.value_counts()"
   ]
  },
  {
   "cell_type": "code",
   "execution_count": 56,
   "id": "866e1265",
   "metadata": {},
   "outputs": [
    {
     "name": "stdout",
     "output_type": "stream",
     "text": [
      "<class 'pandas.core.frame.DataFrame'>\n",
      "RangeIndex: 4617 entries, 0 to 4616\n",
      "Data columns (total 20 columns):\n",
      " #   Column                Non-Null Count  Dtype  \n",
      "---  ------                --------------  -----  \n",
      " 0   State                 4617 non-null   int32  \n",
      " 1   Account_Length        4617 non-null   int32  \n",
      " 2   Area_Code             4617 non-null   int32  \n",
      " 3   International_Plan    4617 non-null   int32  \n",
      " 4   VMail_Plan            4617 non-null   int32  \n",
      " 5   VMail_Message         4617 non-null   int32  \n",
      " 6   Day_Mins              4617 non-null   float32\n",
      " 7   Day_Calls             4617 non-null   int32  \n",
      " 8   Day_Charge            4617 non-null   float32\n",
      " 9   Eve_Mins              4617 non-null   float32\n",
      " 10  Eve_Calls             4617 non-null   int32  \n",
      " 11  Eve_Charge            4617 non-null   float32\n",
      " 12  Night_Mins            4617 non-null   float32\n",
      " 13  Night_Calls           4617 non-null   int32  \n",
      " 14  Night_Charge          4617 non-null   float32\n",
      " 15  International_Mins    4617 non-null   float32\n",
      " 16  International_calls   4617 non-null   int32  \n",
      " 17  International_Charge  4617 non-null   float32\n",
      " 18  CustServ_Calls        4617 non-null   int32  \n",
      " 19  Churn                 4617 non-null   int32  \n",
      "dtypes: float32(8), int32(12)\n",
      "memory usage: 360.8 KB\n"
     ]
    }
   ],
   "source": [
    "df.info()"
   ]
  },
  {
   "cell_type": "code",
   "execution_count": 57,
   "id": "2b8f3a8c",
   "metadata": {},
   "outputs": [
    {
     "data": {
      "image/png": "[encoded data removed]",
      "text/plain": [
       "<Figure size 1440x1296 with 2 Axes>"
      ]
     },
     "metadata": {
      "needs_background": "light"
     },
     "output_type": "display_data"
    }
   ],
   "source": [
    "plt.figure(figsize=(20,18))\n",
    "sns.heatmap(df.corr(),annot=True)\n",
    "plt.show()"
   ]
  },
  {
   "cell_type": "code",
   "execution_count": 58,
   "id": "32f0753b",
   "metadata": {},
   "outputs": [],
   "source": [
    "# Separate features and target\n",
    "x = df.drop('Churn', axis=1)\n",
    "y = df['Churn']"
   ]
  },
  {
   "cell_type": "code",
   "execution_count": 59,
   "id": "2a86b7d9",
   "metadata": {},
   "outputs": [
    {
     "name": "stdout",
     "output_type": "stream",
     "text": [
      "Indices of outliers: [197, 238, 309, 416, 817, 1045, 1093, 1387, 1408, 1551, 1751, 1886, 2150, 2259, 2277, 2700, 3216, 3227, 4260, 4342, 4379, 4389, 4395, 3, 4, 5, 7, 9, 38, 41, 66, 67, 81, 115, 135, 144, 147, 180, 184, 198, 211, 214, 230, 231, 234, 241, 254, 258, 269, 276, 279, 319, 351, 354, 356, 358, 360, 372, 378, 382, 383, 405, 408, 416, 425, 444, 465, 486, 491, 492, 495, 498, 502, 503, 514, 529, 542, 546, 547, 553, 567, 569, 572, 586, 601, 613, 616, 619, 626, 679, 708, 715, 716, 734, 735, 737, 749, 762, 766, 771, 773, 777, 779, 780, 781, 783, 790, 792, 797, 808, 826, 830, 837, 842, 851, 869, 877, 893, 900, 933, 957, 985, 987, 1005, 1024, 1027, 1037, 1042, 1044, 1052, 1064, 1083, 1117, 1128, 1136, 1149, 1158, 1161, 1165, 1169, 1191, 1192, 1193, 1204, 1209, 1238, 1242, 1248, 1253, 1258, 1271, 1309, 1322, 1337, 1339, 1346, 1367, 1378, 1388, 1396, 1418, 1420, 1423, 1428, 1435, 1437, 1443, 1467, 1472, 1473, 1483, 1484, 1503, 1531, 1533, 1537, 1539, 1542, 1574, 1588, 1593, 1601, 1602, 1610, 1617, 1641, 1651, 1653, 1662, 1674, 1711, 1718, 1752, 1754, 1755, 1756, 1757, 1768, 1773, 1784, 1804, 1812, 1837, 1845, 1848, 1861, 1862, 1863, 1867, 1872, 1877, 1882, 1884, 1887, 1892, 1903, 1931, 1935, 1951, 1977, 1978, 2003, 2027, 2029, 2044, 2051, 2076, 2106, 2115, 2118, 2139, 2146, 2152, 2154, 2158, 2160, 2164, 2173, 2194, 2202, 2203, 2209, 2230, 2253, 2258, 2260, 2275, 2289, 2293, 2309, 2316, 2335, 2343, 2347, 2353, 2374, 2384, 2386, 2396, 2400, 2401, 2407, 2414, 2420, 2467, 2468, 2479, 2480, 2517, 2526, 2539, 2549, 2568, 2594, 2602, 2614, 2618, 2619, 2641, 2642, 2645, 2662, 2664, 2665, 2666, 2672, 2682, 2687, 2692, 2701, 2727, 2732, 2734, 2735, 2760, 2766, 2774, 2794, 2800, 2805, 2818, 2822, 2828, 2845, 2847, 2868, 2882, 2895, 2904, 2911, 2933, 2942, 2948, 2949, 2971, 2976, 2987, 2989, 2991, 3031, 3085, 3086, 3109, 3148, 3157, 3180, 3188, 3189, 3200, 3209, 3210, 3214, 3222, 3237, 3241, 3243, 3246, 3255, 3269, 3291, 3302, 3304, 3309, 3317, 3320, 3331, 3360, 3361, 3363, 3372, 3383, 3412, 3428, 3434, 3452, 3461, 3477, 3494, 3497, 3498, 3538, 3540, 3543, 3550, 3555, 3572, 3575, 3576, 3584, 3591, 3595, 3597, 3606, 3616, 3623, 3627, 3628, 3630, 3635, 3646, 3657, 3687, 3714, 3729, 3730, 3735, 3761, 3769, 3812, 3829, 3872, 3875, 3879, 3909, 3916, 3923, 3934, 3943, 3953, 3956, 3970, 3978, 3981, 4002, 4016, 4018, 4021, 4039, 4062, 4064, 4066, 4087, 4100, 4108, 4110, 4113, 4120, 4122, 4138, 4153, 4162, 4166, 4171, 4187, 4190, 4213, 4218, 4225, 4229, 4230, 4235, 4246, 4268, 4274, 4283, 4292, 4297, 4309, 4311, 4319, 4324, 4328, 4337, 4355, 4364, 4366, 4371, 4386, 4402, 4406, 4437, 4470, 4471, 4472, 4484, 4488, 4491, 4498, 4501, 4502, 4503, 4519, 4524, 4525, 4572, 4577, 4586, 4594, 4597, 71, 149, 268, 277, 423, 599, 615, 790, 845, 872, 1269, 1285, 1378, 1441, 1454, 1487, 1596, 1602, 1732, 1797, 1846, 1908, 2366, 2457, 2570, 2608, 2686, 2716, 2768, 2887, 3154, 3165, 3174, 3246, 3279, 3342, 3433, 3523, 3524, 3543, 3577, 3826, 3910, 4059, 4275, 4338, 4369, 4445, 4502, 4516, 4588, 15, 156, 197, 365, 605, 685, 741, 975, 985, 1052, 1076, 1345, 1397, 1621, 1679, 1986, 2028, 2124, 2252, 2594, 2736, 2753, 3046, 3174, 3442, 3993, 4121, 143, 315, 415, 468, 692, 740, 1057, 1121, 1144, 1322, 1345, 1346, 1397, 1422, 1460, 1869, 1989, 2217, 2392, 2394, 2492, 2884, 2885, 2964, 3187, 3978, 4049, 4155, 4230, 4297, 4308, 4445, 4464, 4562, 15, 156, 197, 365, 605, 685, 741, 975, 985, 1052, 1076, 1345, 1397, 1621, 1679, 1986, 2028, 2124, 2252, 2594, 2736, 2753, 3046, 3174, 3442, 3993, 4121, 3, 6, 8, 32, 302, 529, 533, 580, 587, 821, 850, 889, 893, 1054, 1190, 1233, 1335, 1601, 1960, 2160, 2331, 2551, 2732, 2932, 3075, 3370, 3799, 3955, 3989, 3996, 4158, 4347, 4375, 4387, 4544, 4564, 58, 154, 301, 475, 646, 960, 1020, 1071, 1266, 1615, 1706, 1730, 1856, 2227, 2592, 2853, 2932, 3121, 3157, 3219, 3341, 3527, 3940, 4486, 4571, 3, 6, 8, 32, 302, 529, 533, 580, 587, 821, 850, 889, 893, 1054, 1190, 1233, 1335, 1601, 1960, 2160, 2331, 2551, 2732, 2932, 3075, 3370, 3799, 3955, 3989, 3996, 4158, 4347, 4375, 4387, 4544, 4564, 116, 244, 444, 862, 883, 918, 922, 992, 999, 1072, 1113, 1202, 1238, 1260, 1313, 1317, 1445, 2321, 2350, 2382, 2452, 2609, 2663, 2754, 2756, 3024, 3060, 3107, 3159, 3247, 3376, 3659, 3807, 3899, 4222, 4383, 315, 326, 335, 395, 429, 493, 586, 901, 1109, 1200, 1296, 1748, 1810, 2288, 2659, 2728, 2736, 2903, 2988, 3172, 3211, 3234, 3535, 3560, 3570, 3767, 3799, 3895, 3921, 4069, 4079, 4085, 4152, 4207, 4244, 4343, 4386, 4410, 4489, 4508, 4549, 4568, 116, 244, 444, 862, 883, 918, 922, 992, 999, 1072, 1113, 1202, 1238, 1260, 1313, 1317, 1445, 2321, 2350, 2382, 2452, 2609, 2663, 2754, 2756, 3024, 3060, 3107, 3159, 3247, 3376, 3659, 3807, 3899, 4222, 4383, 115, 179, 214, 225, 314, 343, 367, 397, 488, 502, 515, 535, 595, 712, 762, 878, 1028, 1080, 1099, 1257, 1400, 1420, 1564, 1816, 1966, 2004, 2180, 2197, 2198, 2229, 2256, 2345, 2362, 2371, 2513, 2534, 2669, 2679, 2733, 2816, 2906, 2918, 2933, 3022, 3080, 3160, 3216, 3234, 3275, 3290, 3307, 3400, 3403, 3568, 3663, 3788, 3891, 3906, 3916, 4103, 4371, 4396, 4451, 4504, 4574, 22, 41, 153, 182, 185, 211, 219, 250, 272, 329, 341, 347, 377, 420, 474, 483, 504, 514, 588, 636, 642, 674, 698, 723, 756, 837, 842, 854, 863, 883, 911, 921, 957, 982, 1021, 1092, 1168, 1179, 1323, 1333, 1355, 1392, 1419, 1526, 1567, 1581, 1657, 1797, 1832, 1889, 1960, 2001, 2018, 2156, 2212, 2269, 2562, 2576, 2621, 2703, 2724, 2775, 2826, 2835, 2883, 2930, 2947, 2956, 2970, 3025, 3071, 3097, 3109, 3128, 3206, 3230, 3291, 3310, 3386, 3418, 3454, 3516, 3536, 3541, 3587, 3636, 3664, 3727, 3800, 3826, 3839, 3840, 3938, 3973, 3991, 4108, 4126, 4134, 4184, 4286, 4292, 4361, 4386, 4408, 4465, 4478, 4568, 115, 179, 214, 225, 314, 343, 367, 397, 488, 502, 515, 535, 595, 712, 762, 878, 1028, 1080, 1099, 1257, 1400, 1420, 1564, 1816, 1966, 2004, 2180, 2197, 2198, 2229, 2256, 2345, 2362, 2371, 2513, 2534, 2669, 2679, 2733, 2816, 2906, 2918, 2933, 3022, 3080, 3160, 3216, 3234, 3275, 3290, 3307, 3400, 3403, 3568, 3663, 3788, 3891, 3906, 3916, 4103, 4371, 4396, 4451, 4504, 4574, 10, 14, 15, 21, 48, 54, 69, 77, 86, 97, 100, 105, 112, 126, 127, 133, 136, 154, 180, 181, 198, 228, 235, 248, 250, 251, 255, 266, 293, 298, 307, 332, 349, 350, 351, 366, 385, 392, 404, 407, 449, 473, 498, 509, 521, 522, 534, 542, 547, 549, 550, 588, 612, 627, 635, 655, 692, 694, 711, 721, 736, 742, 771, 778, 841, 865, 871, 874, 879, 894, 902, 905, 908, 911, 935, 944, 951, 974, 977, 978, 1038, 1040, 1044, 1045, 1077, 1102, 1104, 1121, 1133, 1142, 1150, 1155, 1176, 1192, 1193, 1197, 1217, 1235, 1240, 1241, 1246, 1253, 1262, 1269, 1272, 1273, 1282, 1284, 1285, 1325, 1339, 1345, 1368, 1373, 1376, 1388, 1396, 1399, 1405, 1407, 1437, 1448, 1449, 1493, 1502, 1531, 1537, 1538, 1610, 1619, 1635, 1638, 1662, 1673, 1694, 1699, 1702, 1707, 1708, 1712, 1713, 1728, 1765, 1802, 1831, 1835, 1844, 1851, 1865, 1880, 1890, 1904, 1911, 1912, 1919, 1922, 1950, 1970, 1973, 1974, 1980, 2004, 2031, 2045, 2067, 2076, 2087, 2112, 2117, 2140, 2187, 2203, 2211, 2218, 2223, 2237, 2248, 2261, 2274, 2283, 2322, 2324, 2327, 2337, 2369, 2370, 2380, 2387, 2395, 2402, 2415, 2421, 2428, 2432, 2437, 2444, 2456, 2459, 2489, 2493, 2515, 2553, 2581, 2592, 2608, 2621, 2622, 2628, 2646, 2660, 2677, 2705, 2732, 2772, 2785, 2786, 2801, 2820, 2827, 2828, 2861, 2901, 2903, 2914, 2915, 2918, 2926, 2941, 2952, 2953, 2958, 2960, 2961, 2979, 3009, 3017, 3023, 3026, 3027, 3035, 3050, 3064, 3079, 3081, 3112, 3115, 3125, 3127, 3131, 3140, 3144, 3147, 3157, 3169, 3181, 3190, 3228, 3243, 3247, 3280, 3287, 3304, 3307, 3309, 3320, 3322, 3323, 3351, 3404, 3413, 3421, 3438, 3441, 3468, 3482, 3487, 3492, 3496, 3497, 3509, 3549, 3554, 3560, 3585, 3595, 3607, 3643, 3655, 3658, 3659, 3665, 3667, 3692, 3700, 3717, 3734, 3737, 3738, 3751, 3774, 3800, 3809, 3836, 3842, 3847, 3851, 3854, 3873, 3898, 3917, 3918, 3920, 3929, 3961, 3973, 3983, 3986, 4013, 4018, 4023, 4044, 4053, 4067, 4085, 4096, 4099, 4110, 4114, 4130, 4132, 4153, 4170, 4190, 4196, 4202, 4218, 4236, 4257, 4279, 4285, 4296, 4307, 4315, 4316, 4346, 4355, 4366, 4367, 4377, 4379, 4381, 4383, 4404, 4405, 4406, 4417, 4421, 4425, 4447, 4489, 4502, 4523, 4537, 4538, 4550, 4562, 4568, 4592]\n"
     ]
    }
   ],
   "source": [
    "import pandas as pd\n",
    "\n",
    "# Load your dataset\n",
    "# Assuming df is your DataFrame\n",
    "# df = pd.read_csv('your_dataset.csv')\n",
    "\n",
    "outlier_indices = []\n",
    "\n",
    "# Loop through each integer column\n",
    "for col in x.select_dtypes(include=['int32','float32']).columns:\n",
    "    # Calculate the first quartile (Q1) and third quartile (Q3)\n",
    "    Q1 = x[col].quantile(0.25)\n",
    "    Q3 = x[col].quantile(0.75)\n",
    "    # Calculate the interquartile range (IQR)\n",
    "    IQR = Q3 - Q1\n",
    "    # Define the lower and upper bounds for outliers\n",
    "    lower_bound = Q1 - 1.5 * IQR\n",
    "    upper_bound = Q3 + 1.5 * IQR\n",
    "    # Identify outliers\n",
    "    outliers = (x[col] < lower_bound) | (x[col] > upper_bound)\n",
    "    # Get the indices of outliers\n",
    "    outlier_indices.extend(x.index[outliers].tolist())\n",
    "\n",
    "print(\"Indices of outliers:\", outlier_indices)\n"
   ]
  },
  {
   "cell_type": "code",
   "execution_count": 60,
   "id": "b8c548bc",
   "metadata": {},
   "outputs": [
    {
     "data": {
      "image/png": "[encoded data removed]",
      "text/plain": [
       "<Figure size 1440x1800 with 19 Axes>"
      ]
     },
     "metadata": {
      "needs_background": "light"
     },
     "output_type": "display_data"
    }
   ],
   "source": [
    "plt.figure(figsize=(20,25))\n",
    "plotnumber=1\n",
    "\n",
    "for i in x:\n",
    "    plt.subplot(6,4,plotnumber)\n",
    "    sns.boxplot(x=x[i])\n",
    "    plotnumber+=1"
   ]
  },
  {
   "cell_type": "code",
   "execution_count": 61,
   "id": "95e2892f",
   "metadata": {},
   "outputs": [],
   "source": [
    "import pandas as pd\n",
    "\n",
    "# Load your dataset\n",
    "# Assuming df is your DataFrame\n",
    "# df = pd.read_csv('your_dataset.csv')\n",
    "\n",
    "# Loop through each integer column\n",
    "for col in x.select_dtypes(include=['int32','float32']).columns:\n",
    "    # Calculate the first quartile (Q1) and third quartile (Q3)\n",
    "    Q1 = x[col].quantile(0.25)\n",
    "    Q3 = x[col].quantile(0.75)\n",
    "    # Calculate the interquartile range (IQR)\n",
    "    IQR = Q3 - Q1\n",
    "    # Define the lower and upper bounds for outliers\n",
    "    lower_bound = Q1 - 1.5 * IQR\n",
    "    upper_bound = Q3 + 1.5 * IQR\n",
    "    # Identify outliers\n",
    "    outliers = (x[col] < lower_bound) | (x[col] > upper_bound)\n",
    "    # Replace outliers with median value of the column\n",
    "    median_val = x[col].median()\n",
    "    x.loc[outliers, col] = median_val\n",
    "\n",
    "# Now df contains treated outliers using the IQR method\n"
   ]
  },
  {
   "cell_type": "code",
   "execution_count": 62,
   "id": "2d6a3f77",
   "metadata": {},
   "outputs": [
    {
     "data": {
      "image/png": "[encoded data removed]",
      "text/plain": [
       "<Figure size 1440x1800 with 19 Axes>"
      ]
     },
     "metadata": {
      "needs_background": "light"
     },
     "output_type": "display_data"
    }
   ],
   "source": [
    "plt.figure(figsize=(20,25))\n",
    "plotnumber=1\n",
    "\n",
    "for i in x:\n",
    "    plt.subplot(6,4,plotnumber)\n",
    "    sns.boxplot(x=x[i])\n",
    "    plotnumber+=1"
   ]
  },
  {
   "cell_type": "code",
   "execution_count": 63,
   "id": "225a50ee",
   "metadata": {},
   "outputs": [
    {
     "data": {
      "text/html": [
       "<div>\n",
       "<style scoped>\n",
       "    .dataframe tbody tr th:only-of-type {\n",
       "        vertical-align: middle;\n",
       "    }\n",
       "\n",
       "    .dataframe tbody tr th {\n",
       "        vertical-align: top;\n",
       "    }\n",
       "\n",
       "    .dataframe thead th {\n",
       "        text-align: right;\n",
       "    }\n",
       "</style>\n",
       "<table border=\"1\" class=\"dataframe\">\n",
       "  <thead>\n",
       "    <tr style=\"text-align: right;\">\n",
       "      <th></th>\n",
       "      <th>State</th>\n",
       "      <th>Account_Length</th>\n",
       "      <th>Area_Code</th>\n",
       "      <th>International_Plan</th>\n",
       "      <th>VMail_Plan</th>\n",
       "      <th>VMail_Message</th>\n",
       "      <th>Day_Mins</th>\n",
       "      <th>Day_Calls</th>\n",
       "      <th>Day_Charge</th>\n",
       "      <th>Eve_Mins</th>\n",
       "      <th>Eve_Calls</th>\n",
       "      <th>Eve_Charge</th>\n",
       "      <th>Night_Mins</th>\n",
       "      <th>Night_Calls</th>\n",
       "      <th>Night_Charge</th>\n",
       "      <th>International_Mins</th>\n",
       "      <th>International_calls</th>\n",
       "      <th>International_Charge</th>\n",
       "      <th>CustServ_Calls</th>\n",
       "    </tr>\n",
       "  </thead>\n",
       "  <tbody>\n",
       "    <tr>\n",
       "      <th>0</th>\n",
       "      <td>16</td>\n",
       "      <td>128</td>\n",
       "      <td>415</td>\n",
       "      <td>0</td>\n",
       "      <td>1</td>\n",
       "      <td>25</td>\n",
       "      <td>265.100006</td>\n",
       "      <td>110</td>\n",
       "      <td>45.070000</td>\n",
       "      <td>197.399994</td>\n",
       "      <td>99</td>\n",
       "      <td>16.780001</td>\n",
       "      <td>244.699997</td>\n",
       "      <td>91</td>\n",
       "      <td>11.01</td>\n",
       "      <td>10.0</td>\n",
       "      <td>3</td>\n",
       "      <td>2.70</td>\n",
       "      <td>1</td>\n",
       "    </tr>\n",
       "    <tr>\n",
       "      <th>1</th>\n",
       "      <td>35</td>\n",
       "      <td>107</td>\n",
       "      <td>415</td>\n",
       "      <td>0</td>\n",
       "      <td>1</td>\n",
       "      <td>26</td>\n",
       "      <td>161.600006</td>\n",
       "      <td>123</td>\n",
       "      <td>27.469999</td>\n",
       "      <td>195.500000</td>\n",
       "      <td>103</td>\n",
       "      <td>16.620001</td>\n",
       "      <td>254.399994</td>\n",
       "      <td>103</td>\n",
       "      <td>11.45</td>\n",
       "      <td>13.7</td>\n",
       "      <td>3</td>\n",
       "      <td>3.70</td>\n",
       "      <td>1</td>\n",
       "    </tr>\n",
       "    <tr>\n",
       "      <th>2</th>\n",
       "      <td>31</td>\n",
       "      <td>137</td>\n",
       "      <td>415</td>\n",
       "      <td>0</td>\n",
       "      <td>0</td>\n",
       "      <td>0</td>\n",
       "      <td>243.399994</td>\n",
       "      <td>114</td>\n",
       "      <td>41.380001</td>\n",
       "      <td>121.199997</td>\n",
       "      <td>110</td>\n",
       "      <td>10.300000</td>\n",
       "      <td>162.600006</td>\n",
       "      <td>104</td>\n",
       "      <td>7.32</td>\n",
       "      <td>12.2</td>\n",
       "      <td>5</td>\n",
       "      <td>3.29</td>\n",
       "      <td>0</td>\n",
       "    </tr>\n",
       "    <tr>\n",
       "      <th>3</th>\n",
       "      <td>35</td>\n",
       "      <td>84</td>\n",
       "      <td>408</td>\n",
       "      <td>0</td>\n",
       "      <td>0</td>\n",
       "      <td>0</td>\n",
       "      <td>299.399994</td>\n",
       "      <td>71</td>\n",
       "      <td>50.900002</td>\n",
       "      <td>200.800003</td>\n",
       "      <td>88</td>\n",
       "      <td>17.070000</td>\n",
       "      <td>196.899994</td>\n",
       "      <td>89</td>\n",
       "      <td>8.86</td>\n",
       "      <td>6.6</td>\n",
       "      <td>7</td>\n",
       "      <td>1.78</td>\n",
       "      <td>2</td>\n",
       "    </tr>\n",
       "    <tr>\n",
       "      <th>4</th>\n",
       "      <td>36</td>\n",
       "      <td>75</td>\n",
       "      <td>415</td>\n",
       "      <td>0</td>\n",
       "      <td>0</td>\n",
       "      <td>0</td>\n",
       "      <td>166.699997</td>\n",
       "      <td>113</td>\n",
       "      <td>28.340000</td>\n",
       "      <td>148.300003</td>\n",
       "      <td>122</td>\n",
       "      <td>12.610000</td>\n",
       "      <td>186.899994</td>\n",
       "      <td>121</td>\n",
       "      <td>8.41</td>\n",
       "      <td>10.1</td>\n",
       "      <td>3</td>\n",
       "      <td>2.73</td>\n",
       "      <td>3</td>\n",
       "    </tr>\n",
       "    <tr>\n",
       "      <th>...</th>\n",
       "      <td>...</td>\n",
       "      <td>...</td>\n",
       "      <td>...</td>\n",
       "      <td>...</td>\n",
       "      <td>...</td>\n",
       "      <td>...</td>\n",
       "      <td>...</td>\n",
       "      <td>...</td>\n",
       "      <td>...</td>\n",
       "      <td>...</td>\n",
       "      <td>...</td>\n",
       "      <td>...</td>\n",
       "      <td>...</td>\n",
       "      <td>...</td>\n",
       "      <td>...</td>\n",
       "      <td>...</td>\n",
       "      <td>...</td>\n",
       "      <td>...</td>\n",
       "      <td>...</td>\n",
       "    </tr>\n",
       "    <tr>\n",
       "      <th>4612</th>\n",
       "      <td>34</td>\n",
       "      <td>57</td>\n",
       "      <td>510</td>\n",
       "      <td>0</td>\n",
       "      <td>1</td>\n",
       "      <td>25</td>\n",
       "      <td>144.000000</td>\n",
       "      <td>81</td>\n",
       "      <td>24.480000</td>\n",
       "      <td>187.199997</td>\n",
       "      <td>112</td>\n",
       "      <td>15.910000</td>\n",
       "      <td>158.600006</td>\n",
       "      <td>122</td>\n",
       "      <td>7.14</td>\n",
       "      <td>8.5</td>\n",
       "      <td>6</td>\n",
       "      <td>2.30</td>\n",
       "      <td>3</td>\n",
       "    </tr>\n",
       "    <tr>\n",
       "      <th>4613</th>\n",
       "      <td>32</td>\n",
       "      <td>177</td>\n",
       "      <td>408</td>\n",
       "      <td>0</td>\n",
       "      <td>1</td>\n",
       "      <td>29</td>\n",
       "      <td>189.000000</td>\n",
       "      <td>91</td>\n",
       "      <td>32.130001</td>\n",
       "      <td>303.100006</td>\n",
       "      <td>96</td>\n",
       "      <td>25.760000</td>\n",
       "      <td>163.600006</td>\n",
       "      <td>116</td>\n",
       "      <td>7.36</td>\n",
       "      <td>15.7</td>\n",
       "      <td>1</td>\n",
       "      <td>4.24</td>\n",
       "      <td>3</td>\n",
       "    </tr>\n",
       "    <tr>\n",
       "      <th>4614</th>\n",
       "      <td>46</td>\n",
       "      <td>67</td>\n",
       "      <td>408</td>\n",
       "      <td>0</td>\n",
       "      <td>1</td>\n",
       "      <td>33</td>\n",
       "      <td>127.500000</td>\n",
       "      <td>126</td>\n",
       "      <td>21.680000</td>\n",
       "      <td>296.100006</td>\n",
       "      <td>129</td>\n",
       "      <td>25.170000</td>\n",
       "      <td>200.899994</td>\n",
       "      <td>91</td>\n",
       "      <td>9.04</td>\n",
       "      <td>13.0</td>\n",
       "      <td>3</td>\n",
       "      <td>3.51</td>\n",
       "      <td>1</td>\n",
       "    </tr>\n",
       "    <tr>\n",
       "      <th>4615</th>\n",
       "      <td>22</td>\n",
       "      <td>98</td>\n",
       "      <td>415</td>\n",
       "      <td>0</td>\n",
       "      <td>1</td>\n",
       "      <td>23</td>\n",
       "      <td>168.899994</td>\n",
       "      <td>98</td>\n",
       "      <td>28.709999</td>\n",
       "      <td>226.300003</td>\n",
       "      <td>117</td>\n",
       "      <td>19.240000</td>\n",
       "      <td>165.500000</td>\n",
       "      <td>96</td>\n",
       "      <td>7.45</td>\n",
       "      <td>14.3</td>\n",
       "      <td>3</td>\n",
       "      <td>3.86</td>\n",
       "      <td>0</td>\n",
       "    </tr>\n",
       "    <tr>\n",
       "      <th>4616</th>\n",
       "      <td>15</td>\n",
       "      <td>140</td>\n",
       "      <td>415</td>\n",
       "      <td>0</td>\n",
       "      <td>0</td>\n",
       "      <td>0</td>\n",
       "      <td>204.699997</td>\n",
       "      <td>100</td>\n",
       "      <td>34.799999</td>\n",
       "      <td>126.800003</td>\n",
       "      <td>107</td>\n",
       "      <td>10.780000</td>\n",
       "      <td>202.800003</td>\n",
       "      <td>115</td>\n",
       "      <td>9.13</td>\n",
       "      <td>12.1</td>\n",
       "      <td>4</td>\n",
       "      <td>3.27</td>\n",
       "      <td>2</td>\n",
       "    </tr>\n",
       "  </tbody>\n",
       "</table>\n",
       "<p>4617 rows × 19 columns</p>\n",
       "</div>"
      ],
      "text/plain": [
       "      State  Account_Length  Area_Code  International_Plan  VMail_Plan  \\\n",
       "0        16             128        415                   0           1   \n",
       "1        35             107        415                   0           1   \n",
       "2        31             137        415                   0           0   \n",
       "3        35              84        408                   0           0   \n",
       "4        36              75        415                   0           0   \n",
       "...     ...             ...        ...                 ...         ...   \n",
       "4612     34              57        510                   0           1   \n",
       "4613     32             177        408                   0           1   \n",
       "4614     46              67        408                   0           1   \n",
       "4615     22              98        415                   0           1   \n",
       "4616     15             140        415                   0           0   \n",
       "\n",
       "      VMail_Message    Day_Mins  Day_Calls  Day_Charge    Eve_Mins  Eve_Calls  \\\n",
       "0                25  265.100006        110   45.070000  197.399994         99   \n",
       "1                26  161.600006        123   27.469999  195.500000        103   \n",
       "2                 0  243.399994        114   41.380001  121.199997        110   \n",
       "3                 0  299.399994         71   50.900002  200.800003         88   \n",
       "4                 0  166.699997        113   28.340000  148.300003        122   \n",
       "...             ...         ...        ...         ...         ...        ...   \n",
       "4612             25  144.000000         81   24.480000  187.199997        112   \n",
       "4613             29  189.000000         91   32.130001  303.100006         96   \n",
       "4614             33  127.500000        126   21.680000  296.100006        129   \n",
       "4615             23  168.899994         98   28.709999  226.300003        117   \n",
       "4616              0  204.699997        100   34.799999  126.800003        107   \n",
       "\n",
       "      Eve_Charge  Night_Mins  Night_Calls  Night_Charge  International_Mins  \\\n",
       "0      16.780001  244.699997           91         11.01                10.0   \n",
       "1      16.620001  254.399994          103         11.45                13.7   \n",
       "2      10.300000  162.600006          104          7.32                12.2   \n",
       "3      17.070000  196.899994           89          8.86                 6.6   \n",
       "4      12.610000  186.899994          121          8.41                10.1   \n",
       "...          ...         ...          ...           ...                 ...   \n",
       "4612   15.910000  158.600006          122          7.14                 8.5   \n",
       "4613   25.760000  163.600006          116          7.36                15.7   \n",
       "4614   25.170000  200.899994           91          9.04                13.0   \n",
       "4615   19.240000  165.500000           96          7.45                14.3   \n",
       "4616   10.780000  202.800003          115          9.13                12.1   \n",
       "\n",
       "      International_calls  International_Charge  CustServ_Calls  \n",
       "0                       3                  2.70               1  \n",
       "1                       3                  3.70               1  \n",
       "2                       5                  3.29               0  \n",
       "3                       7                  1.78               2  \n",
       "4                       3                  2.73               3  \n",
       "...                   ...                   ...             ...  \n",
       "4612                    6                  2.30               3  \n",
       "4613                    1                  4.24               3  \n",
       "4614                    3                  3.51               1  \n",
       "4615                    3                  3.86               0  \n",
       "4616                    4                  3.27               2  \n",
       "\n",
       "[4617 rows x 19 columns]"
      ]
     },
     "execution_count": 63,
     "metadata": {},
     "output_type": "execute_result"
    }
   ],
   "source": [
    "x"
   ]
  },
  {
   "cell_type": "code",
   "execution_count": 64,
   "id": "efdf5189",
   "metadata": {},
   "outputs": [
    {
     "data": {
      "text/plain": [
       "0       0\n",
       "1       0\n",
       "2       0\n",
       "3       0\n",
       "4       0\n",
       "       ..\n",
       "4612    0\n",
       "4613    0\n",
       "4614    0\n",
       "4615    0\n",
       "4616    0\n",
       "Name: Churn, Length: 4617, dtype: int32"
      ]
     },
     "execution_count": 64,
     "metadata": {},
     "output_type": "execute_result"
    }
   ],
   "source": [
    "y"
   ]
  },
  {
   "cell_type": "code",
   "execution_count": 65,
   "id": "e9d51a96",
   "metadata": {},
   "outputs": [
    {
     "name": "stdout",
     "output_type": "stream",
     "text": [
      "Class distribution before balancing: Counter({0: 3961, 1: 656})\n"
     ]
    }
   ],
   "source": [
    "from collections import Counter\n",
    "from imblearn.over_sampling import SMOTE\n",
    "\n",
    "\n",
    "# Check class distribution before balancing\n",
    "print(\"Class distribution before balancing:\", Counter(y))"
   ]
  },
  {
   "cell_type": "code",
   "execution_count": 66,
   "id": "de655578",
   "metadata": {},
   "outputs": [
    {
     "name": "stdout",
     "output_type": "stream",
     "text": [
      "Class distribution after balancing: Counter({0: 3961, 1: 3961})\n"
     ]
    }
   ],
   "source": [
    "# Apply SMOTE to balance the dataset\n",
    "smote = SMOTE(random_state=42)\n",
    "x_resampled, y_resampled = smote.fit_resample(x, y)\n",
    "\n",
    "# Check class distribution after balancing\n",
    "print(\"Class distribution after balancing:\", Counter(y_resampled))\n"
   ]
  },
  {
   "cell_type": "code",
   "execution_count": 67,
   "id": "7f85864c",
   "metadata": {},
   "outputs": [
    {
     "data": {
      "text/plain": [
       "array([0, 1])"
      ]
     },
     "execution_count": 67,
     "metadata": {},
     "output_type": "execute_result"
    }
   ],
   "source": [
    "y.unique()"
   ]
  },
  {
   "cell_type": "markdown",
   "id": "d4cf4b17",
   "metadata": {},
   "source": [
    "## droping the unwanted columns"
   ]
  },
  {
   "cell_type": "code",
   "execution_count": 68,
   "id": "4d9e2fb6",
   "metadata": {},
   "outputs": [],
   "source": [
    "x.drop(['Day_Mins','Eve_Mins','Night_Mins','International_Mins','VMail_Message'], axis=1, inplace=True)"
   ]
  },
  {
   "cell_type": "code",
   "execution_count": 69,
   "id": "3b19e991",
   "metadata": {},
   "outputs": [
    {
     "data": {
      "text/html": [
       "<div>\n",
       "<style scoped>\n",
       "    .dataframe tbody tr th:only-of-type {\n",
       "        vertical-align: middle;\n",
       "    }\n",
       "\n",
       "    .dataframe tbody tr th {\n",
       "        vertical-align: top;\n",
       "    }\n",
       "\n",
       "    .dataframe thead th {\n",
       "        text-align: right;\n",
       "    }\n",
       "</style>\n",
       "<table border=\"1\" class=\"dataframe\">\n",
       "  <thead>\n",
       "    <tr style=\"text-align: right;\">\n",
       "      <th></th>\n",
       "      <th>State</th>\n",
       "      <th>Account_Length</th>\n",
       "      <th>Area_Code</th>\n",
       "      <th>International_Plan</th>\n",
       "      <th>VMail_Plan</th>\n",
       "      <th>Day_Calls</th>\n",
       "      <th>Day_Charge</th>\n",
       "      <th>Eve_Calls</th>\n",
       "      <th>Eve_Charge</th>\n",
       "      <th>Night_Calls</th>\n",
       "      <th>Night_Charge</th>\n",
       "      <th>International_calls</th>\n",
       "      <th>International_Charge</th>\n",
       "      <th>CustServ_Calls</th>\n",
       "    </tr>\n",
       "  </thead>\n",
       "  <tbody>\n",
       "    <tr>\n",
       "      <th>0</th>\n",
       "      <td>16</td>\n",
       "      <td>128</td>\n",
       "      <td>415</td>\n",
       "      <td>0</td>\n",
       "      <td>1</td>\n",
       "      <td>110</td>\n",
       "      <td>45.070000</td>\n",
       "      <td>99</td>\n",
       "      <td>16.780001</td>\n",
       "      <td>91</td>\n",
       "      <td>11.01</td>\n",
       "      <td>3</td>\n",
       "      <td>2.70</td>\n",
       "      <td>1</td>\n",
       "    </tr>\n",
       "    <tr>\n",
       "      <th>1</th>\n",
       "      <td>35</td>\n",
       "      <td>107</td>\n",
       "      <td>415</td>\n",
       "      <td>0</td>\n",
       "      <td>1</td>\n",
       "      <td>123</td>\n",
       "      <td>27.469999</td>\n",
       "      <td>103</td>\n",
       "      <td>16.620001</td>\n",
       "      <td>103</td>\n",
       "      <td>11.45</td>\n",
       "      <td>3</td>\n",
       "      <td>3.70</td>\n",
       "      <td>1</td>\n",
       "    </tr>\n",
       "    <tr>\n",
       "      <th>2</th>\n",
       "      <td>31</td>\n",
       "      <td>137</td>\n",
       "      <td>415</td>\n",
       "      <td>0</td>\n",
       "      <td>0</td>\n",
       "      <td>114</td>\n",
       "      <td>41.380001</td>\n",
       "      <td>110</td>\n",
       "      <td>10.300000</td>\n",
       "      <td>104</td>\n",
       "      <td>7.32</td>\n",
       "      <td>5</td>\n",
       "      <td>3.29</td>\n",
       "      <td>0</td>\n",
       "    </tr>\n",
       "    <tr>\n",
       "      <th>3</th>\n",
       "      <td>35</td>\n",
       "      <td>84</td>\n",
       "      <td>408</td>\n",
       "      <td>0</td>\n",
       "      <td>0</td>\n",
       "      <td>71</td>\n",
       "      <td>50.900002</td>\n",
       "      <td>88</td>\n",
       "      <td>17.070000</td>\n",
       "      <td>89</td>\n",
       "      <td>8.86</td>\n",
       "      <td>7</td>\n",
       "      <td>1.78</td>\n",
       "      <td>2</td>\n",
       "    </tr>\n",
       "    <tr>\n",
       "      <th>4</th>\n",
       "      <td>36</td>\n",
       "      <td>75</td>\n",
       "      <td>415</td>\n",
       "      <td>0</td>\n",
       "      <td>0</td>\n",
       "      <td>113</td>\n",
       "      <td>28.340000</td>\n",
       "      <td>122</td>\n",
       "      <td>12.610000</td>\n",
       "      <td>121</td>\n",
       "      <td>8.41</td>\n",
       "      <td>3</td>\n",
       "      <td>2.73</td>\n",
       "      <td>3</td>\n",
       "    </tr>\n",
       "    <tr>\n",
       "      <th>...</th>\n",
       "      <td>...</td>\n",
       "      <td>...</td>\n",
       "      <td>...</td>\n",
       "      <td>...</td>\n",
       "      <td>...</td>\n",
       "      <td>...</td>\n",
       "      <td>...</td>\n",
       "      <td>...</td>\n",
       "      <td>...</td>\n",
       "      <td>...</td>\n",
       "      <td>...</td>\n",
       "      <td>...</td>\n",
       "      <td>...</td>\n",
       "      <td>...</td>\n",
       "    </tr>\n",
       "    <tr>\n",
       "      <th>4612</th>\n",
       "      <td>34</td>\n",
       "      <td>57</td>\n",
       "      <td>510</td>\n",
       "      <td>0</td>\n",
       "      <td>1</td>\n",
       "      <td>81</td>\n",
       "      <td>24.480000</td>\n",
       "      <td>112</td>\n",
       "      <td>15.910000</td>\n",
       "      <td>122</td>\n",
       "      <td>7.14</td>\n",
       "      <td>6</td>\n",
       "      <td>2.30</td>\n",
       "      <td>3</td>\n",
       "    </tr>\n",
       "    <tr>\n",
       "      <th>4613</th>\n",
       "      <td>32</td>\n",
       "      <td>177</td>\n",
       "      <td>408</td>\n",
       "      <td>0</td>\n",
       "      <td>1</td>\n",
       "      <td>91</td>\n",
       "      <td>32.130001</td>\n",
       "      <td>96</td>\n",
       "      <td>25.760000</td>\n",
       "      <td>116</td>\n",
       "      <td>7.36</td>\n",
       "      <td>1</td>\n",
       "      <td>4.24</td>\n",
       "      <td>3</td>\n",
       "    </tr>\n",
       "    <tr>\n",
       "      <th>4614</th>\n",
       "      <td>46</td>\n",
       "      <td>67</td>\n",
       "      <td>408</td>\n",
       "      <td>0</td>\n",
       "      <td>1</td>\n",
       "      <td>126</td>\n",
       "      <td>21.680000</td>\n",
       "      <td>129</td>\n",
       "      <td>25.170000</td>\n",
       "      <td>91</td>\n",
       "      <td>9.04</td>\n",
       "      <td>3</td>\n",
       "      <td>3.51</td>\n",
       "      <td>1</td>\n",
       "    </tr>\n",
       "    <tr>\n",
       "      <th>4615</th>\n",
       "      <td>22</td>\n",
       "      <td>98</td>\n",
       "      <td>415</td>\n",
       "      <td>0</td>\n",
       "      <td>1</td>\n",
       "      <td>98</td>\n",
       "      <td>28.709999</td>\n",
       "      <td>117</td>\n",
       "      <td>19.240000</td>\n",
       "      <td>96</td>\n",
       "      <td>7.45</td>\n",
       "      <td>3</td>\n",
       "      <td>3.86</td>\n",
       "      <td>0</td>\n",
       "    </tr>\n",
       "    <tr>\n",
       "      <th>4616</th>\n",
       "      <td>15</td>\n",
       "      <td>140</td>\n",
       "      <td>415</td>\n",
       "      <td>0</td>\n",
       "      <td>0</td>\n",
       "      <td>100</td>\n",
       "      <td>34.799999</td>\n",
       "      <td>107</td>\n",
       "      <td>10.780000</td>\n",
       "      <td>115</td>\n",
       "      <td>9.13</td>\n",
       "      <td>4</td>\n",
       "      <td>3.27</td>\n",
       "      <td>2</td>\n",
       "    </tr>\n",
       "  </tbody>\n",
       "</table>\n",
       "<p>4617 rows × 14 columns</p>\n",
       "</div>"
      ],
      "text/plain": [
       "      State  Account_Length  Area_Code  International_Plan  VMail_Plan  \\\n",
       "0        16             128        415                   0           1   \n",
       "1        35             107        415                   0           1   \n",
       "2        31             137        415                   0           0   \n",
       "3        35              84        408                   0           0   \n",
       "4        36              75        415                   0           0   \n",
       "...     ...             ...        ...                 ...         ...   \n",
       "4612     34              57        510                   0           1   \n",
       "4613     32             177        408                   0           1   \n",
       "4614     46              67        408                   0           1   \n",
       "4615     22              98        415                   0           1   \n",
       "4616     15             140        415                   0           0   \n",
       "\n",
       "      Day_Calls  Day_Charge  Eve_Calls  Eve_Charge  Night_Calls  Night_Charge  \\\n",
       "0           110   45.070000         99   16.780001           91         11.01   \n",
       "1           123   27.469999        103   16.620001          103         11.45   \n",
       "2           114   41.380001        110   10.300000          104          7.32   \n",
       "3            71   50.900002         88   17.070000           89          8.86   \n",
       "4           113   28.340000        122   12.610000          121          8.41   \n",
       "...         ...         ...        ...         ...          ...           ...   \n",
       "4612         81   24.480000        112   15.910000          122          7.14   \n",
       "4613         91   32.130001         96   25.760000          116          7.36   \n",
       "4614        126   21.680000        129   25.170000           91          9.04   \n",
       "4615         98   28.709999        117   19.240000           96          7.45   \n",
       "4616        100   34.799999        107   10.780000          115          9.13   \n",
       "\n",
       "      International_calls  International_Charge  CustServ_Calls  \n",
       "0                       3                  2.70               1  \n",
       "1                       3                  3.70               1  \n",
       "2                       5                  3.29               0  \n",
       "3                       7                  1.78               2  \n",
       "4                       3                  2.73               3  \n",
       "...                   ...                   ...             ...  \n",
       "4612                    6                  2.30               3  \n",
       "4613                    1                  4.24               3  \n",
       "4614                    3                  3.51               1  \n",
       "4615                    3                  3.86               0  \n",
       "4616                    4                  3.27               2  \n",
       "\n",
       "[4617 rows x 14 columns]"
      ]
     },
     "execution_count": 69,
     "metadata": {},
     "output_type": "execute_result"
    }
   ],
   "source": [
    "x"
   ]
  },
  {
   "cell_type": "code",
   "execution_count": 74,
   "id": "e5fd5762",
   "metadata": {},
   "outputs": [
    {
     "data": {
      "text/plain": [
       "Index(['State', 'Account_Length', 'Area_Code', 'International_Plan',\n",
       "       'VMail_Plan', 'Day_Calls', 'Day_Charge', 'Eve_Calls', 'Eve_Charge',\n",
       "       'Night_Calls', 'Night_Charge', 'International_calls',\n",
       "       'International_Charge', 'CustServ_Calls'],\n",
       "      dtype='object')"
      ]
     },
     "execution_count": 74,
     "metadata": {},
     "output_type": "execute_result"
    }
   ],
   "source": [
    "x.columns"
   ]
  },
  {
   "cell_type": "markdown",
   "id": "aca0414a",
   "metadata": {},
   "source": [
    "### Data Scaling"
   ]
  },
  {
   "cell_type": "code",
   "execution_count": 70,
   "id": "c2703ae8",
   "metadata": {},
   "outputs": [],
   "source": [
    "from sklearn.preprocessing import StandardScaler\n",
    "\n",
    "scaler = StandardScaler()\n",
    "scaler.fit(x)\n",
    "x_scaled = scaler.transform(x)"
   ]
  },
  {
   "cell_type": "code",
   "execution_count": 71,
   "id": "945a8040",
   "metadata": {},
   "outputs": [
    {
     "data": {
      "text/plain": [
       "array([[-0.67900123,  0.72280374, -0.52139206, ..., -0.59666095,\n",
       "        -0.12778361, -0.30254327],\n",
       "       [ 0.60575838,  0.17979365, -0.52139206, ..., -0.59666095,\n",
       "         1.32647275, -0.30254327],\n",
       "       [ 0.33528267,  0.95552234, -0.52139206, ...,  0.37521543,\n",
       "         0.73022751, -1.36720962],\n",
       "       ...,\n",
       "       [ 1.34956657, -0.85451128, -0.68694075, ..., -0.59666095,\n",
       "         1.05016395, -0.30254327],\n",
       "       [-0.27328767, -0.05292496, -0.52139206, ..., -0.59666095,\n",
       "         1.55915354, -1.36720962],\n",
       "       [-0.74662015,  1.03309521, -0.52139206, ..., -0.11072276,\n",
       "         0.70114241,  0.76212309]])"
      ]
     },
     "execution_count": 71,
     "metadata": {},
     "output_type": "execute_result"
    }
   ],
   "source": [
    "x_scaled"
   ]
  },
  {
   "cell_type": "code",
   "execution_count": 75,
   "id": "54a4aa79",
   "metadata": {},
   "outputs": [],
   "source": [
    "x =pd.DataFrame(x_scaled,columns=['State', 'Account_Length', 'Area_Code', 'International_Plan',\n",
    "       'VMail_Plan', 'Day_Calls', 'Day_Charge', 'Eve_Calls', 'Eve_Charge',\n",
    "       'Night_Calls', 'Night_Charge', 'International_calls',\n",
    "       'International_Charge', 'CustServ_Calls'])"
   ]
  },
  {
   "cell_type": "code",
   "execution_count": 76,
   "id": "bcf7ce9f",
   "metadata": {},
   "outputs": [
    {
     "data": {
      "text/plain": [
       "Churn\n",
       "0    3961\n",
       "1     656\n",
       "Name: count, dtype: int64"
      ]
     },
     "execution_count": 76,
     "metadata": {},
     "output_type": "execute_result"
    }
   ],
   "source": [
    "y.value_counts()"
   ]
  },
  {
   "cell_type": "code",
   "execution_count": 78,
   "id": "d8edbffa",
   "metadata": {},
   "outputs": [],
   "source": [
    "from sklearn.model_selection import train_test_split\n",
    "x_train,x_test,y_train,y_test=train_test_split(x,y,test_size=0.2,random_state=45)"
   ]
  },
  {
   "cell_type": "code",
   "execution_count": 79,
   "id": "4ac52852",
   "metadata": {},
   "outputs": [
    {
     "data": {
      "text/html": [
       "<div>\n",
       "<style scoped>\n",
       "    .dataframe tbody tr th:only-of-type {\n",
       "        vertical-align: middle;\n",
       "    }\n",
       "\n",
       "    .dataframe tbody tr th {\n",
       "        vertical-align: top;\n",
       "    }\n",
       "\n",
       "    .dataframe thead th {\n",
       "        text-align: right;\n",
       "    }\n",
       "</style>\n",
       "<table border=\"1\" class=\"dataframe\">\n",
       "  <thead>\n",
       "    <tr style=\"text-align: right;\">\n",
       "      <th></th>\n",
       "      <th>State</th>\n",
       "      <th>Account_Length</th>\n",
       "      <th>Area_Code</th>\n",
       "      <th>International_Plan</th>\n",
       "      <th>VMail_Plan</th>\n",
       "      <th>Day_Calls</th>\n",
       "      <th>Day_Charge</th>\n",
       "      <th>Eve_Calls</th>\n",
       "      <th>Eve_Charge</th>\n",
       "      <th>Night_Calls</th>\n",
       "      <th>Night_Charge</th>\n",
       "      <th>International_calls</th>\n",
       "      <th>International_Charge</th>\n",
       "      <th>CustServ_Calls</th>\n",
       "    </tr>\n",
       "  </thead>\n",
       "  <tbody>\n",
       "    <tr>\n",
       "      <th>575</th>\n",
       "      <td>1.011472</td>\n",
       "      <td>0.360797</td>\n",
       "      <td>-0.521392</td>\n",
       "      <td>0.0</td>\n",
       "      <td>1.653916</td>\n",
       "      <td>-0.532189</td>\n",
       "      <td>2.461773</td>\n",
       "      <td>-0.581058</td>\n",
       "      <td>-0.004804</td>\n",
       "      <td>0.271116</td>\n",
       "      <td>-0.351122</td>\n",
       "      <td>-1.082599</td>\n",
       "      <td>1.515526</td>\n",
       "      <td>-0.302543</td>\n",
       "    </tr>\n",
       "    <tr>\n",
       "      <th>3877</th>\n",
       "      <td>0.673377</td>\n",
       "      <td>0.877949</td>\n",
       "      <td>-0.686941</td>\n",
       "      <td>0.0</td>\n",
       "      <td>1.653916</td>\n",
       "      <td>-1.106269</td>\n",
       "      <td>-0.401283</td>\n",
       "      <td>-0.321780</td>\n",
       "      <td>-2.247554</td>\n",
       "      <td>1.946807</td>\n",
       "      <td>-0.022390</td>\n",
       "      <td>-0.596661</td>\n",
       "      <td>-0.127784</td>\n",
       "      <td>0.762123</td>\n",
       "    </tr>\n",
       "    <tr>\n",
       "      <th>2441</th>\n",
       "      <td>-1.017096</td>\n",
       "      <td>0.283224</td>\n",
       "      <td>-0.686941</td>\n",
       "      <td>0.0</td>\n",
       "      <td>1.653916</td>\n",
       "      <td>0.198459</td>\n",
       "      <td>0.240051</td>\n",
       "      <td>-0.114358</td>\n",
       "      <td>-1.825077</td>\n",
       "      <td>-0.304903</td>\n",
       "      <td>0.548327</td>\n",
       "      <td>-0.110723</td>\n",
       "      <td>0.701142</td>\n",
       "      <td>-0.302543</td>\n",
       "    </tr>\n",
       "    <tr>\n",
       "      <th>4467</th>\n",
       "      <td>1.079091</td>\n",
       "      <td>-0.182213</td>\n",
       "      <td>-0.686941</td>\n",
       "      <td>0.0</td>\n",
       "      <td>-0.604626</td>\n",
       "      <td>1.816321</td>\n",
       "      <td>-0.156165</td>\n",
       "      <td>-0.269925</td>\n",
       "      <td>2.423837</td>\n",
       "      <td>0.218750</td>\n",
       "      <td>-1.419503</td>\n",
       "      <td>-0.110723</td>\n",
       "      <td>0.468461</td>\n",
       "      <td>1.826789</td>\n",
       "    </tr>\n",
       "    <tr>\n",
       "      <th>4414</th>\n",
       "      <td>-1.219953</td>\n",
       "      <td>-1.294091</td>\n",
       "      <td>1.725340</td>\n",
       "      <td>0.0</td>\n",
       "      <td>1.653916</td>\n",
       "      <td>-1.315025</td>\n",
       "      <td>-0.631849</td>\n",
       "      <td>-1.358891</td>\n",
       "      <td>0.907747</td>\n",
       "      <td>0.061654</td>\n",
       "      <td>0.333738</td>\n",
       "      <td>-0.596661</td>\n",
       "      <td>1.122877</td>\n",
       "      <td>0.762123</td>\n",
       "    </tr>\n",
       "    <tr>\n",
       "      <th>...</th>\n",
       "      <td>...</td>\n",
       "      <td>...</td>\n",
       "      <td>...</td>\n",
       "      <td>...</td>\n",
       "      <td>...</td>\n",
       "      <td>...</td>\n",
       "      <td>...</td>\n",
       "      <td>...</td>\n",
       "      <td>...</td>\n",
       "      <td>...</td>\n",
       "      <td>...</td>\n",
       "      <td>...</td>\n",
       "      <td>...</td>\n",
       "      <td>...</td>\n",
       "    </tr>\n",
       "    <tr>\n",
       "      <th>3704</th>\n",
       "      <td>-1.625666</td>\n",
       "      <td>0.826234</td>\n",
       "      <td>-0.521392</td>\n",
       "      <td>0.0</td>\n",
       "      <td>-0.604626</td>\n",
       "      <td>1.346619</td>\n",
       "      <td>-1.550758</td>\n",
       "      <td>-1.255180</td>\n",
       "      <td>-0.229320</td>\n",
       "      <td>0.428212</td>\n",
       "      <td>-0.912707</td>\n",
       "      <td>-0.596661</td>\n",
       "      <td>-0.753114</td>\n",
       "      <td>-0.302543</td>\n",
       "    </tr>\n",
       "    <tr>\n",
       "      <th>4473</th>\n",
       "      <td>-0.070431</td>\n",
       "      <td>-0.621793</td>\n",
       "      <td>-0.686941</td>\n",
       "      <td>0.0</td>\n",
       "      <td>-0.604626</td>\n",
       "      <td>-0.949701</td>\n",
       "      <td>0.237812</td>\n",
       "      <td>0.456052</td>\n",
       "      <td>0.004853</td>\n",
       "      <td>-1.090383</td>\n",
       "      <td>-1.328189</td>\n",
       "      <td>-0.596661</td>\n",
       "      <td>1.602782</td>\n",
       "      <td>-1.367210</td>\n",
       "    </tr>\n",
       "    <tr>\n",
       "      <th>580</th>\n",
       "      <td>-0.746620</td>\n",
       "      <td>0.334939</td>\n",
       "      <td>-0.521392</td>\n",
       "      <td>0.0</td>\n",
       "      <td>-0.604626</td>\n",
       "      <td>2.651346</td>\n",
       "      <td>0.550084</td>\n",
       "      <td>0.663474</td>\n",
       "      <td>0.004853</td>\n",
       "      <td>0.847135</td>\n",
       "      <td>0.931848</td>\n",
       "      <td>-1.082599</td>\n",
       "      <td>-1.145763</td>\n",
       "      <td>-0.302543</td>\n",
       "    </tr>\n",
       "    <tr>\n",
       "      <th>163</th>\n",
       "      <td>-0.273288</td>\n",
       "      <td>-0.983799</td>\n",
       "      <td>-0.521392</td>\n",
       "      <td>0.0</td>\n",
       "      <td>-0.604626</td>\n",
       "      <td>0.146270</td>\n",
       "      <td>-1.552997</td>\n",
       "      <td>1.130174</td>\n",
       "      <td>-1.337417</td>\n",
       "      <td>-0.933287</td>\n",
       "      <td>0.740087</td>\n",
       "      <td>-1.568537</td>\n",
       "      <td>0.730228</td>\n",
       "      <td>-0.302543</td>\n",
       "    </tr>\n",
       "    <tr>\n",
       "      <th>3616</th>\n",
       "      <td>1.079091</td>\n",
       "      <td>0.696946</td>\n",
       "      <td>-0.521392</td>\n",
       "      <td>0.0</td>\n",
       "      <td>-0.604626</td>\n",
       "      <td>-0.010298</td>\n",
       "      <td>0.764982</td>\n",
       "      <td>-0.581058</td>\n",
       "      <td>-0.622827</td>\n",
       "      <td>-1.404575</td>\n",
       "      <td>1.598445</td>\n",
       "      <td>-0.110723</td>\n",
       "      <td>1.835463</td>\n",
       "      <td>1.826789</td>\n",
       "    </tr>\n",
       "  </tbody>\n",
       "</table>\n",
       "<p>3693 rows × 14 columns</p>\n",
       "</div>"
      ],
      "text/plain": [
       "         State  Account_Length  Area_Code  International_Plan  VMail_Plan  \\\n",
       "575   1.011472        0.360797  -0.521392                 0.0    1.653916   \n",
       "3877  0.673377        0.877949  -0.686941                 0.0    1.653916   \n",
       "2441 -1.017096        0.283224  -0.686941                 0.0    1.653916   \n",
       "4467  1.079091       -0.182213  -0.686941                 0.0   -0.604626   \n",
       "4414 -1.219953       -1.294091   1.725340                 0.0    1.653916   \n",
       "...        ...             ...        ...                 ...         ...   \n",
       "3704 -1.625666        0.826234  -0.521392                 0.0   -0.604626   \n",
       "4473 -0.070431       -0.621793  -0.686941                 0.0   -0.604626   \n",
       "580  -0.746620        0.334939  -0.521392                 0.0   -0.604626   \n",
       "163  -0.273288       -0.983799  -0.521392                 0.0   -0.604626   \n",
       "3616  1.079091        0.696946  -0.521392                 0.0   -0.604626   \n",
       "\n",
       "      Day_Calls  Day_Charge  Eve_Calls  Eve_Charge  Night_Calls  Night_Charge  \\\n",
       "575   -0.532189    2.461773  -0.581058   -0.004804     0.271116     -0.351122   \n",
       "3877  -1.106269   -0.401283  -0.321780   -2.247554     1.946807     -0.022390   \n",
       "2441   0.198459    0.240051  -0.114358   -1.825077    -0.304903      0.548327   \n",
       "4467   1.816321   -0.156165  -0.269925    2.423837     0.218750     -1.419503   \n",
       "4414  -1.315025   -0.631849  -1.358891    0.907747     0.061654      0.333738   \n",
       "...         ...         ...        ...         ...          ...           ...   \n",
       "3704   1.346619   -1.550758  -1.255180   -0.229320     0.428212     -0.912707   \n",
       "4473  -0.949701    0.237812   0.456052    0.004853    -1.090383     -1.328189   \n",
       "580    2.651346    0.550084   0.663474    0.004853     0.847135      0.931848   \n",
       "163    0.146270   -1.552997   1.130174   -1.337417    -0.933287      0.740087   \n",
       "3616  -0.010298    0.764982  -0.581058   -0.622827    -1.404575      1.598445   \n",
       "\n",
       "      International_calls  International_Charge  CustServ_Calls  \n",
       "575             -1.082599              1.515526       -0.302543  \n",
       "3877            -0.596661             -0.127784        0.762123  \n",
       "2441            -0.110723              0.701142       -0.302543  \n",
       "4467            -0.110723              0.468461        1.826789  \n",
       "4414            -0.596661              1.122877        0.762123  \n",
       "...                   ...                   ...             ...  \n",
       "3704            -0.596661             -0.753114       -0.302543  \n",
       "4473            -0.596661              1.602782       -1.367210  \n",
       "580             -1.082599             -1.145763       -0.302543  \n",
       "163             -1.568537              0.730228       -0.302543  \n",
       "3616            -0.110723              1.835463        1.826789  \n",
       "\n",
       "[3693 rows x 14 columns]"
      ]
     },
     "execution_count": 79,
     "metadata": {},
     "output_type": "execute_result"
    }
   ],
   "source": [
    "x_train"
   ]
  },
  {
   "cell_type": "code",
   "execution_count": 80,
   "id": "68007bdb",
   "metadata": {},
   "outputs": [
    {
     "data": {
      "text/html": [
       "<div>\n",
       "<style scoped>\n",
       "    .dataframe tbody tr th:only-of-type {\n",
       "        vertical-align: middle;\n",
       "    }\n",
       "\n",
       "    .dataframe tbody tr th {\n",
       "        vertical-align: top;\n",
       "    }\n",
       "\n",
       "    .dataframe thead th {\n",
       "        text-align: right;\n",
       "    }\n",
       "</style>\n",
       "<table border=\"1\" class=\"dataframe\">\n",
       "  <thead>\n",
       "    <tr style=\"text-align: right;\">\n",
       "      <th></th>\n",
       "      <th>State</th>\n",
       "      <th>Account_Length</th>\n",
       "      <th>Area_Code</th>\n",
       "      <th>International_Plan</th>\n",
       "      <th>VMail_Plan</th>\n",
       "      <th>Day_Calls</th>\n",
       "      <th>Day_Charge</th>\n",
       "      <th>Eve_Calls</th>\n",
       "      <th>Eve_Charge</th>\n",
       "      <th>Night_Calls</th>\n",
       "      <th>Night_Charge</th>\n",
       "      <th>International_calls</th>\n",
       "      <th>International_Charge</th>\n",
       "      <th>CustServ_Calls</th>\n",
       "    </tr>\n",
       "  </thead>\n",
       "  <tbody>\n",
       "    <tr>\n",
       "      <th>3544</th>\n",
       "      <td>1.417185</td>\n",
       "      <td>0.153936</td>\n",
       "      <td>-0.521392</td>\n",
       "      <td>0.0</td>\n",
       "      <td>-0.604626</td>\n",
       "      <td>0.720350</td>\n",
       "      <td>-0.585960</td>\n",
       "      <td>-1.462602</td>\n",
       "      <td>-1.972340</td>\n",
       "      <td>-0.671461</td>\n",
       "      <td>0.562024</td>\n",
       "      <td>-1.082599</td>\n",
       "      <td>-0.520433</td>\n",
       "      <td>0.762123</td>\n",
       "    </tr>\n",
       "    <tr>\n",
       "      <th>2409</th>\n",
       "      <td>-1.219953</td>\n",
       "      <td>2.144973</td>\n",
       "      <td>-0.521392</td>\n",
       "      <td>0.0</td>\n",
       "      <td>1.653916</td>\n",
       "      <td>0.981295</td>\n",
       "      <td>-1.788040</td>\n",
       "      <td>-0.166214</td>\n",
       "      <td>1.735802</td>\n",
       "      <td>1.737346</td>\n",
       "      <td>-0.415043</td>\n",
       "      <td>-1.082599</td>\n",
       "      <td>-0.636774</td>\n",
       "      <td>0.762123</td>\n",
       "    </tr>\n",
       "    <tr>\n",
       "      <th>1700</th>\n",
       "      <td>1.349567</td>\n",
       "      <td>-0.182213</td>\n",
       "      <td>1.725340</td>\n",
       "      <td>0.0</td>\n",
       "      <td>1.653916</td>\n",
       "      <td>0.876917</td>\n",
       "      <td>0.726927</td>\n",
       "      <td>-2.033012</td>\n",
       "      <td>-1.755066</td>\n",
       "      <td>-0.776191</td>\n",
       "      <td>-0.163927</td>\n",
       "      <td>0.375215</td>\n",
       "      <td>-0.360465</td>\n",
       "      <td>0.762123</td>\n",
       "    </tr>\n",
       "    <tr>\n",
       "      <th>2976</th>\n",
       "      <td>-1.625666</td>\n",
       "      <td>0.567658</td>\n",
       "      <td>-0.521392</td>\n",
       "      <td>0.0</td>\n",
       "      <td>-0.604626</td>\n",
       "      <td>0.876917</td>\n",
       "      <td>-0.650876</td>\n",
       "      <td>-0.373636</td>\n",
       "      <td>0.371805</td>\n",
       "      <td>-0.147807</td>\n",
       "      <td>0.726390</td>\n",
       "      <td>0.375215</td>\n",
       "      <td>0.468461</td>\n",
       "      <td>-0.302543</td>\n",
       "    </tr>\n",
       "    <tr>\n",
       "      <th>2944</th>\n",
       "      <td>0.808615</td>\n",
       "      <td>0.929665</td>\n",
       "      <td>-0.686941</td>\n",
       "      <td>0.0</td>\n",
       "      <td>-0.604626</td>\n",
       "      <td>-1.315025</td>\n",
       "      <td>-1.491437</td>\n",
       "      <td>-0.166214</td>\n",
       "      <td>0.388704</td>\n",
       "      <td>-0.409634</td>\n",
       "      <td>-2.606593</td>\n",
       "      <td>0.375215</td>\n",
       "      <td>-0.200496</td>\n",
       "      <td>-1.367210</td>\n",
       "    </tr>\n",
       "    <tr>\n",
       "      <th>...</th>\n",
       "      <td>...</td>\n",
       "      <td>...</td>\n",
       "      <td>...</td>\n",
       "      <td>...</td>\n",
       "      <td>...</td>\n",
       "      <td>...</td>\n",
       "      <td>...</td>\n",
       "      <td>...</td>\n",
       "      <td>...</td>\n",
       "      <td>...</td>\n",
       "      <td>...</td>\n",
       "      <td>...</td>\n",
       "      <td>...</td>\n",
       "      <td>...</td>\n",
       "    </tr>\n",
       "    <tr>\n",
       "      <th>93</th>\n",
       "      <td>-0.340907</td>\n",
       "      <td>-0.570077</td>\n",
       "      <td>-0.521392</td>\n",
       "      <td>0.0</td>\n",
       "      <td>-0.604626</td>\n",
       "      <td>-0.375621</td>\n",
       "      <td>1.377215</td>\n",
       "      <td>0.611619</td>\n",
       "      <td>-0.456251</td>\n",
       "      <td>0.271116</td>\n",
       "      <td>1.301672</td>\n",
       "      <td>1.347092</td>\n",
       "      <td>-0.316837</td>\n",
       "      <td>1.826789</td>\n",
       "    </tr>\n",
       "    <tr>\n",
       "      <th>1653</th>\n",
       "      <td>-0.408526</td>\n",
       "      <td>-0.182213</td>\n",
       "      <td>1.725340</td>\n",
       "      <td>0.0</td>\n",
       "      <td>-0.604626</td>\n",
       "      <td>-1.158458</td>\n",
       "      <td>-0.934048</td>\n",
       "      <td>0.300486</td>\n",
       "      <td>0.391118</td>\n",
       "      <td>0.166385</td>\n",
       "      <td>-0.921839</td>\n",
       "      <td>-1.082599</td>\n",
       "      <td>0.308493</td>\n",
       "      <td>-0.302543</td>\n",
       "    </tr>\n",
       "    <tr>\n",
       "      <th>1796</th>\n",
       "      <td>1.146710</td>\n",
       "      <td>-0.544220</td>\n",
       "      <td>-0.521392</td>\n",
       "      <td>0.0</td>\n",
       "      <td>-0.604626</td>\n",
       "      <td>-0.532189</td>\n",
       "      <td>-0.694528</td>\n",
       "      <td>-0.477347</td>\n",
       "      <td>-1.330175</td>\n",
       "      <td>1.527884</td>\n",
       "      <td>0.242423</td>\n",
       "      <td>-0.110723</td>\n",
       "      <td>1.050164</td>\n",
       "      <td>-0.302543</td>\n",
       "    </tr>\n",
       "    <tr>\n",
       "      <th>1453</th>\n",
       "      <td>1.214329</td>\n",
       "      <td>0.128078</td>\n",
       "      <td>-0.521392</td>\n",
       "      <td>0.0</td>\n",
       "      <td>1.653916</td>\n",
       "      <td>0.563782</td>\n",
       "      <td>1.066061</td>\n",
       "      <td>0.507908</td>\n",
       "      <td>-1.714026</td>\n",
       "      <td>0.794769</td>\n",
       "      <td>0.420486</td>\n",
       "      <td>-0.596661</td>\n",
       "      <td>-0.869454</td>\n",
       "      <td>0.762123</td>\n",
       "    </tr>\n",
       "    <tr>\n",
       "      <th>1400</th>\n",
       "      <td>1.281948</td>\n",
       "      <td>0.386655</td>\n",
       "      <td>-0.521392</td>\n",
       "      <td>0.0</td>\n",
       "      <td>-0.604626</td>\n",
       "      <td>-0.532189</td>\n",
       "      <td>-0.922856</td>\n",
       "      <td>-1.307035</td>\n",
       "      <td>-0.062743</td>\n",
       "      <td>0.742404</td>\n",
       "      <td>-0.510923</td>\n",
       "      <td>-2.054476</td>\n",
       "      <td>-0.011443</td>\n",
       "      <td>1.826789</td>\n",
       "    </tr>\n",
       "  </tbody>\n",
       "</table>\n",
       "<p>924 rows × 14 columns</p>\n",
       "</div>"
      ],
      "text/plain": [
       "         State  Account_Length  Area_Code  International_Plan  VMail_Plan  \\\n",
       "3544  1.417185        0.153936  -0.521392                 0.0   -0.604626   \n",
       "2409 -1.219953        2.144973  -0.521392                 0.0    1.653916   \n",
       "1700  1.349567       -0.182213   1.725340                 0.0    1.653916   \n",
       "2976 -1.625666        0.567658  -0.521392                 0.0   -0.604626   \n",
       "2944  0.808615        0.929665  -0.686941                 0.0   -0.604626   \n",
       "...        ...             ...        ...                 ...         ...   \n",
       "93   -0.340907       -0.570077  -0.521392                 0.0   -0.604626   \n",
       "1653 -0.408526       -0.182213   1.725340                 0.0   -0.604626   \n",
       "1796  1.146710       -0.544220  -0.521392                 0.0   -0.604626   \n",
       "1453  1.214329        0.128078  -0.521392                 0.0    1.653916   \n",
       "1400  1.281948        0.386655  -0.521392                 0.0   -0.604626   \n",
       "\n",
       "      Day_Calls  Day_Charge  Eve_Calls  Eve_Charge  Night_Calls  Night_Charge  \\\n",
       "3544   0.720350   -0.585960  -1.462602   -1.972340    -0.671461      0.562024   \n",
       "2409   0.981295   -1.788040  -0.166214    1.735802     1.737346     -0.415043   \n",
       "1700   0.876917    0.726927  -2.033012   -1.755066    -0.776191     -0.163927   \n",
       "2976   0.876917   -0.650876  -0.373636    0.371805    -0.147807      0.726390   \n",
       "2944  -1.315025   -1.491437  -0.166214    0.388704    -0.409634     -2.606593   \n",
       "...         ...         ...        ...         ...          ...           ...   \n",
       "93    -0.375621    1.377215   0.611619   -0.456251     0.271116      1.301672   \n",
       "1653  -1.158458   -0.934048   0.300486    0.391118     0.166385     -0.921839   \n",
       "1796  -0.532189   -0.694528  -0.477347   -1.330175     1.527884      0.242423   \n",
       "1453   0.563782    1.066061   0.507908   -1.714026     0.794769      0.420486   \n",
       "1400  -0.532189   -0.922856  -1.307035   -0.062743     0.742404     -0.510923   \n",
       "\n",
       "      International_calls  International_Charge  CustServ_Calls  \n",
       "3544            -1.082599             -0.520433        0.762123  \n",
       "2409            -1.082599             -0.636774        0.762123  \n",
       "1700             0.375215             -0.360465        0.762123  \n",
       "2976             0.375215              0.468461       -0.302543  \n",
       "2944             0.375215             -0.200496       -1.367210  \n",
       "...                   ...                   ...             ...  \n",
       "93               1.347092             -0.316837        1.826789  \n",
       "1653            -1.082599              0.308493       -0.302543  \n",
       "1796            -0.110723              1.050164       -0.302543  \n",
       "1453            -0.596661             -0.869454        0.762123  \n",
       "1400            -2.054476             -0.011443        1.826789  \n",
       "\n",
       "[924 rows x 14 columns]"
      ]
     },
     "execution_count": 80,
     "metadata": {},
     "output_type": "execute_result"
    }
   ],
   "source": [
    "x_test"
   ]
  },
  {
   "cell_type": "code",
   "execution_count": 81,
   "id": "bd46c1c2",
   "metadata": {},
   "outputs": [
    {
     "data": {
      "text/plain": [
       "575     0\n",
       "3877    0\n",
       "2441    0\n",
       "4467    0\n",
       "4414    0\n",
       "       ..\n",
       "3704    0\n",
       "4473    0\n",
       "580     1\n",
       "163     0\n",
       "3616    1\n",
       "Name: Churn, Length: 3693, dtype: int32"
      ]
     },
     "execution_count": 81,
     "metadata": {},
     "output_type": "execute_result"
    }
   ],
   "source": [
    "y_train"
   ]
  },
  {
   "cell_type": "code",
   "execution_count": 82,
   "id": "b16c8d8a",
   "metadata": {},
   "outputs": [
    {
     "data": {
      "text/plain": [
       "3544    0\n",
       "2409    0\n",
       "1700    0\n",
       "2976    0\n",
       "2944    0\n",
       "       ..\n",
       "93      0\n",
       "1653    1\n",
       "1796    0\n",
       "1453    0\n",
       "1400    0\n",
       "Name: Churn, Length: 924, dtype: int32"
      ]
     },
     "execution_count": 82,
     "metadata": {},
     "output_type": "execute_result"
    }
   ],
   "source": [
    "y_test"
   ]
  },
  {
   "cell_type": "code",
   "execution_count": 83,
   "id": "68da0e94",
   "metadata": {},
   "outputs": [
    {
     "data": {
      "text/html": [
       "<div>\n",
       "<style scoped>\n",
       "    .dataframe tbody tr th:only-of-type {\n",
       "        vertical-align: middle;\n",
       "    }\n",
       "\n",
       "    .dataframe tbody tr th {\n",
       "        vertical-align: top;\n",
       "    }\n",
       "\n",
       "    .dataframe thead th {\n",
       "        text-align: right;\n",
       "    }\n",
       "</style>\n",
       "<table border=\"1\" class=\"dataframe\">\n",
       "  <thead>\n",
       "    <tr style=\"text-align: right;\">\n",
       "      <th></th>\n",
       "      <th>State</th>\n",
       "      <th>Account_Length</th>\n",
       "      <th>Area_Code</th>\n",
       "      <th>International_Plan</th>\n",
       "      <th>VMail_Plan</th>\n",
       "      <th>VMail_Message</th>\n",
       "      <th>Day_Mins</th>\n",
       "      <th>Day_Calls</th>\n",
       "      <th>Day_Charge</th>\n",
       "      <th>Eve_Mins</th>\n",
       "      <th>Eve_Calls</th>\n",
       "      <th>Eve_Charge</th>\n",
       "      <th>Night_Mins</th>\n",
       "      <th>Night_Calls</th>\n",
       "      <th>Night_Charge</th>\n",
       "      <th>International_Mins</th>\n",
       "      <th>International_calls</th>\n",
       "      <th>International_Charge</th>\n",
       "      <th>CustServ_Calls</th>\n",
       "      <th>Churn</th>\n",
       "    </tr>\n",
       "  </thead>\n",
       "  <tbody>\n",
       "    <tr>\n",
       "      <th>State</th>\n",
       "      <td>1.000000</td>\n",
       "      <td>0.008638</td>\n",
       "      <td>0.015370</td>\n",
       "      <td>0.009789</td>\n",
       "      <td>-0.033323</td>\n",
       "      <td>-0.028491</td>\n",
       "      <td>0.009172</td>\n",
       "      <td>-0.008418</td>\n",
       "      <td>0.009173</td>\n",
       "      <td>0.002927</td>\n",
       "      <td>-0.010696</td>\n",
       "      <td>0.002920</td>\n",
       "      <td>0.014747</td>\n",
       "      <td>-0.002134</td>\n",
       "      <td>0.014735</td>\n",
       "      <td>-0.017423</td>\n",
       "      <td>0.012466</td>\n",
       "      <td>-0.017464</td>\n",
       "      <td>-0.016943</td>\n",
       "      <td>0.010979</td>\n",
       "    </tr>\n",
       "    <tr>\n",
       "      <th>Account_Length</th>\n",
       "      <td>0.008638</td>\n",
       "      <td>1.000000</td>\n",
       "      <td>-0.020394</td>\n",
       "      <td>0.013948</td>\n",
       "      <td>-0.004602</td>\n",
       "      <td>-0.012983</td>\n",
       "      <td>0.002002</td>\n",
       "      <td>0.032783</td>\n",
       "      <td>0.001999</td>\n",
       "      <td>-0.006778</td>\n",
       "      <td>0.015598</td>\n",
       "      <td>-0.006775</td>\n",
       "      <td>-0.002077</td>\n",
       "      <td>-0.009482</td>\n",
       "      <td>-0.002095</td>\n",
       "      <td>0.003483</td>\n",
       "      <td>0.023485</td>\n",
       "      <td>0.003501</td>\n",
       "      <td>0.002620</td>\n",
       "      <td>0.018046</td>\n",
       "    </tr>\n",
       "    <tr>\n",
       "      <th>Area_Code</th>\n",
       "      <td>0.015370</td>\n",
       "      <td>-0.020394</td>\n",
       "      <td>1.000000</td>\n",
       "      <td>0.039263</td>\n",
       "      <td>-0.003150</td>\n",
       "      <td>-0.002597</td>\n",
       "      <td>-0.018900</td>\n",
       "      <td>-0.013179</td>\n",
       "      <td>-0.018903</td>\n",
       "      <td>0.011513</td>\n",
       "      <td>-0.011528</td>\n",
       "      <td>0.011533</td>\n",
       "      <td>0.002794</td>\n",
       "      <td>0.015316</td>\n",
       "      <td>0.002782</td>\n",
       "      <td>-0.007292</td>\n",
       "      <td>-0.011531</td>\n",
       "      <td>-0.007386</td>\n",
       "      <td>0.021046</td>\n",
       "      <td>0.011995</td>\n",
       "    </tr>\n",
       "    <tr>\n",
       "      <th>International_Plan</th>\n",
       "      <td>0.009789</td>\n",
       "      <td>0.013948</td>\n",
       "      <td>0.039263</td>\n",
       "      <td>1.000000</td>\n",
       "      <td>0.009278</td>\n",
       "      <td>0.011596</td>\n",
       "      <td>0.028220</td>\n",
       "      <td>0.007477</td>\n",
       "      <td>0.028223</td>\n",
       "      <td>0.023740</td>\n",
       "      <td>0.003360</td>\n",
       "      <td>0.023740</td>\n",
       "      <td>-0.025951</td>\n",
       "      <td>0.007390</td>\n",
       "      <td>-0.025959</td>\n",
       "      <td>0.036973</td>\n",
       "      <td>0.006717</td>\n",
       "      <td>0.036955</td>\n",
       "      <td>-0.012846</td>\n",
       "      <td>0.257524</td>\n",
       "    </tr>\n",
       "    <tr>\n",
       "      <th>VMail_Plan</th>\n",
       "      <td>-0.033323</td>\n",
       "      <td>-0.004602</td>\n",
       "      <td>-0.003150</td>\n",
       "      <td>0.009278</td>\n",
       "      <td>1.000000</td>\n",
       "      <td>0.955280</td>\n",
       "      <td>0.004444</td>\n",
       "      <td>-0.005738</td>\n",
       "      <td>0.004441</td>\n",
       "      <td>0.021775</td>\n",
       "      <td>-0.005534</td>\n",
       "      <td>0.021779</td>\n",
       "      <td>0.006431</td>\n",
       "      <td>0.008468</td>\n",
       "      <td>0.006426</td>\n",
       "      <td>0.005872</td>\n",
       "      <td>-0.000043</td>\n",
       "      <td>0.005912</td>\n",
       "      <td>-0.014544</td>\n",
       "      <td>-0.110149</td>\n",
       "    </tr>\n",
       "    <tr>\n",
       "      <th>VMail_Message</th>\n",
       "      <td>-0.028491</td>\n",
       "      <td>-0.012983</td>\n",
       "      <td>-0.002597</td>\n",
       "      <td>0.011596</td>\n",
       "      <td>0.955280</td>\n",
       "      <td>1.000000</td>\n",
       "      <td>0.009028</td>\n",
       "      <td>-0.003846</td>\n",
       "      <td>0.009025</td>\n",
       "      <td>0.017872</td>\n",
       "      <td>-0.006508</td>\n",
       "      <td>0.017878</td>\n",
       "      <td>0.004672</td>\n",
       "      <td>0.000889</td>\n",
       "      <td>0.004665</td>\n",
       "      <td>0.005167</td>\n",
       "      <td>0.007423</td>\n",
       "      <td>0.005202</td>\n",
       "      <td>-0.006951</td>\n",
       "      <td>-0.096884</td>\n",
       "    </tr>\n",
       "    <tr>\n",
       "      <th>Day_Mins</th>\n",
       "      <td>0.009172</td>\n",
       "      <td>0.002002</td>\n",
       "      <td>-0.018900</td>\n",
       "      <td>0.028220</td>\n",
       "      <td>0.004444</td>\n",
       "      <td>0.009028</td>\n",
       "      <td>1.000000</td>\n",
       "      <td>-0.002823</td>\n",
       "      <td>1.000000</td>\n",
       "      <td>-0.010260</td>\n",
       "      <td>0.012990</td>\n",
       "      <td>-0.010268</td>\n",
       "      <td>0.009604</td>\n",
       "      <td>0.005165</td>\n",
       "      <td>0.009591</td>\n",
       "      <td>-0.012314</td>\n",
       "      <td>0.000166</td>\n",
       "      <td>-0.012261</td>\n",
       "      <td>-0.008149</td>\n",
       "      <td>0.202439</td>\n",
       "    </tr>\n",
       "    <tr>\n",
       "      <th>Day_Calls</th>\n",
       "      <td>-0.008418</td>\n",
       "      <td>0.032783</td>\n",
       "      <td>-0.013179</td>\n",
       "      <td>0.007477</td>\n",
       "      <td>-0.005738</td>\n",
       "      <td>-0.003846</td>\n",
       "      <td>-0.002823</td>\n",
       "      <td>1.000000</td>\n",
       "      <td>-0.002821</td>\n",
       "      <td>-0.006430</td>\n",
       "      <td>0.003923</td>\n",
       "      <td>-0.006429</td>\n",
       "      <td>0.010730</td>\n",
       "      <td>-0.013299</td>\n",
       "      <td>0.010724</td>\n",
       "      <td>0.012951</td>\n",
       "      <td>0.010889</td>\n",
       "      <td>0.013055</td>\n",
       "      <td>-0.008747</td>\n",
       "      <td>0.016268</td>\n",
       "    </tr>\n",
       "    <tr>\n",
       "      <th>Day_Charge</th>\n",
       "      <td>0.009173</td>\n",
       "      <td>0.001999</td>\n",
       "      <td>-0.018903</td>\n",
       "      <td>0.028223</td>\n",
       "      <td>0.004441</td>\n",
       "      <td>0.009025</td>\n",
       "      <td>1.000000</td>\n",
       "      <td>-0.002821</td>\n",
       "      <td>1.000000</td>\n",
       "      <td>-0.010255</td>\n",
       "      <td>0.012992</td>\n",
       "      <td>-0.010262</td>\n",
       "      <td>0.009606</td>\n",
       "      <td>0.005164</td>\n",
       "      <td>0.009593</td>\n",
       "      <td>-0.012315</td>\n",
       "      <td>0.000163</td>\n",
       "      <td>-0.012262</td>\n",
       "      <td>-0.008155</td>\n",
       "      <td>0.202434</td>\n",
       "    </tr>\n",
       "    <tr>\n",
       "      <th>Eve_Mins</th>\n",
       "      <td>0.002927</td>\n",
       "      <td>-0.006778</td>\n",
       "      <td>0.011513</td>\n",
       "      <td>0.023740</td>\n",
       "      <td>0.021775</td>\n",
       "      <td>0.017872</td>\n",
       "      <td>-0.010260</td>\n",
       "      <td>-0.006430</td>\n",
       "      <td>-0.010255</td>\n",
       "      <td>1.000000</td>\n",
       "      <td>0.001135</td>\n",
       "      <td>1.000000</td>\n",
       "      <td>-0.018830</td>\n",
       "      <td>0.014226</td>\n",
       "      <td>-0.018837</td>\n",
       "      <td>0.000165</td>\n",
       "      <td>0.005749</td>\n",
       "      <td>0.000172</td>\n",
       "      <td>-0.015598</td>\n",
       "      <td>0.087042</td>\n",
       "    </tr>\n",
       "    <tr>\n",
       "      <th>Eve_Calls</th>\n",
       "      <td>-0.010696</td>\n",
       "      <td>0.015598</td>\n",
       "      <td>-0.011528</td>\n",
       "      <td>0.003360</td>\n",
       "      <td>-0.005534</td>\n",
       "      <td>-0.006508</td>\n",
       "      <td>0.012990</td>\n",
       "      <td>0.003923</td>\n",
       "      <td>0.012992</td>\n",
       "      <td>0.001135</td>\n",
       "      <td>1.000000</td>\n",
       "      <td>0.001151</td>\n",
       "      <td>0.002610</td>\n",
       "      <td>-0.015463</td>\n",
       "      <td>0.002624</td>\n",
       "      <td>-0.002798</td>\n",
       "      <td>0.005198</td>\n",
       "      <td>-0.002831</td>\n",
       "      <td>0.007730</td>\n",
       "      <td>0.001943</td>\n",
       "    </tr>\n",
       "    <tr>\n",
       "      <th>Eve_Charge</th>\n",
       "      <td>0.002920</td>\n",
       "      <td>-0.006775</td>\n",
       "      <td>0.011533</td>\n",
       "      <td>0.023740</td>\n",
       "      <td>0.021779</td>\n",
       "      <td>0.017878</td>\n",
       "      <td>-0.010268</td>\n",
       "      <td>-0.006429</td>\n",
       "      <td>-0.010262</td>\n",
       "      <td>1.000000</td>\n",
       "      <td>0.001151</td>\n",
       "      <td>1.000000</td>\n",
       "      <td>-0.018839</td>\n",
       "      <td>0.014231</td>\n",
       "      <td>-0.018846</td>\n",
       "      <td>0.000163</td>\n",
       "      <td>0.005751</td>\n",
       "      <td>0.000170</td>\n",
       "      <td>-0.015611</td>\n",
       "      <td>0.087036</td>\n",
       "    </tr>\n",
       "    <tr>\n",
       "      <th>Night_Mins</th>\n",
       "      <td>0.014747</td>\n",
       "      <td>-0.002077</td>\n",
       "      <td>0.002794</td>\n",
       "      <td>-0.025951</td>\n",
       "      <td>0.006431</td>\n",
       "      <td>0.004672</td>\n",
       "      <td>0.009604</td>\n",
       "      <td>0.010730</td>\n",
       "      <td>0.009606</td>\n",
       "      <td>-0.018830</td>\n",
       "      <td>0.002610</td>\n",
       "      <td>-0.018839</td>\n",
       "      <td>1.000000</td>\n",
       "      <td>0.025742</td>\n",
       "      <td>0.999999</td>\n",
       "      <td>-0.004549</td>\n",
       "      <td>-0.014651</td>\n",
       "      <td>-0.004500</td>\n",
       "      <td>-0.013871</td>\n",
       "      <td>0.043262</td>\n",
       "    </tr>\n",
       "    <tr>\n",
       "      <th>Night_Calls</th>\n",
       "      <td>-0.002134</td>\n",
       "      <td>-0.009482</td>\n",
       "      <td>0.015316</td>\n",
       "      <td>0.007390</td>\n",
       "      <td>0.008468</td>\n",
       "      <td>0.000889</td>\n",
       "      <td>0.005165</td>\n",
       "      <td>-0.013299</td>\n",
       "      <td>0.005164</td>\n",
       "      <td>0.014226</td>\n",
       "      <td>-0.015463</td>\n",
       "      <td>0.014231</td>\n",
       "      <td>0.025742</td>\n",
       "      <td>1.000000</td>\n",
       "      <td>0.025722</td>\n",
       "      <td>-0.006431</td>\n",
       "      <td>0.003294</td>\n",
       "      <td>-0.006439</td>\n",
       "      <td>-0.010258</td>\n",
       "      <td>-0.006671</td>\n",
       "    </tr>\n",
       "    <tr>\n",
       "      <th>Night_Charge</th>\n",
       "      <td>0.014735</td>\n",
       "      <td>-0.002095</td>\n",
       "      <td>0.002782</td>\n",
       "      <td>-0.025959</td>\n",
       "      <td>0.006426</td>\n",
       "      <td>0.004665</td>\n",
       "      <td>0.009591</td>\n",
       "      <td>0.010724</td>\n",
       "      <td>0.009593</td>\n",
       "      <td>-0.018837</td>\n",
       "      <td>0.002624</td>\n",
       "      <td>-0.018846</td>\n",
       "      <td>0.999999</td>\n",
       "      <td>0.025722</td>\n",
       "      <td>1.000000</td>\n",
       "      <td>-0.004546</td>\n",
       "      <td>-0.014624</td>\n",
       "      <td>-0.004497</td>\n",
       "      <td>-0.013868</td>\n",
       "      <td>0.043260</td>\n",
       "    </tr>\n",
       "    <tr>\n",
       "      <th>International_Mins</th>\n",
       "      <td>-0.017423</td>\n",
       "      <td>0.003483</td>\n",
       "      <td>-0.007292</td>\n",
       "      <td>0.036973</td>\n",
       "      <td>0.005872</td>\n",
       "      <td>0.005167</td>\n",
       "      <td>-0.012314</td>\n",
       "      <td>0.012951</td>\n",
       "      <td>-0.012315</td>\n",
       "      <td>0.000165</td>\n",
       "      <td>-0.002798</td>\n",
       "      <td>0.000163</td>\n",
       "      <td>-0.004549</td>\n",
       "      <td>-0.006431</td>\n",
       "      <td>-0.004546</td>\n",
       "      <td>1.000000</td>\n",
       "      <td>0.021431</td>\n",
       "      <td>0.999993</td>\n",
       "      <td>-0.016079</td>\n",
       "      <td>0.064731</td>\n",
       "    </tr>\n",
       "    <tr>\n",
       "      <th>International_calls</th>\n",
       "      <td>0.012466</td>\n",
       "      <td>0.023485</td>\n",
       "      <td>-0.011531</td>\n",
       "      <td>0.006717</td>\n",
       "      <td>-0.000043</td>\n",
       "      <td>0.007423</td>\n",
       "      <td>0.000166</td>\n",
       "      <td>0.010889</td>\n",
       "      <td>0.000163</td>\n",
       "      <td>0.005749</td>\n",
       "      <td>0.005198</td>\n",
       "      <td>0.005751</td>\n",
       "      <td>-0.014651</td>\n",
       "      <td>0.003294</td>\n",
       "      <td>-0.014624</td>\n",
       "      <td>0.021431</td>\n",
       "      <td>1.000000</td>\n",
       "      <td>0.021548</td>\n",
       "      <td>-0.016778</td>\n",
       "      <td>-0.045844</td>\n",
       "    </tr>\n",
       "    <tr>\n",
       "      <th>International_Charge</th>\n",
       "      <td>-0.017464</td>\n",
       "      <td>0.003501</td>\n",
       "      <td>-0.007386</td>\n",
       "      <td>0.036955</td>\n",
       "      <td>0.005912</td>\n",
       "      <td>0.005202</td>\n",
       "      <td>-0.012261</td>\n",
       "      <td>0.013055</td>\n",
       "      <td>-0.012262</td>\n",
       "      <td>0.000172</td>\n",
       "      <td>-0.002831</td>\n",
       "      <td>0.000170</td>\n",
       "      <td>-0.004500</td>\n",
       "      <td>-0.006439</td>\n",
       "      <td>-0.004497</td>\n",
       "      <td>0.999993</td>\n",
       "      <td>0.021548</td>\n",
       "      <td>1.000000</td>\n",
       "      <td>-0.016148</td>\n",
       "      <td>0.064728</td>\n",
       "    </tr>\n",
       "    <tr>\n",
       "      <th>CustServ_Calls</th>\n",
       "      <td>-0.016943</td>\n",
       "      <td>0.002620</td>\n",
       "      <td>0.021046</td>\n",
       "      <td>-0.012846</td>\n",
       "      <td>-0.014544</td>\n",
       "      <td>-0.006951</td>\n",
       "      <td>-0.008149</td>\n",
       "      <td>-0.008747</td>\n",
       "      <td>-0.008155</td>\n",
       "      <td>-0.015598</td>\n",
       "      <td>0.007730</td>\n",
       "      <td>-0.015611</td>\n",
       "      <td>-0.013871</td>\n",
       "      <td>-0.010258</td>\n",
       "      <td>-0.013868</td>\n",
       "      <td>-0.016079</td>\n",
       "      <td>-0.016778</td>\n",
       "      <td>-0.016148</td>\n",
       "      <td>1.000000</td>\n",
       "      <td>0.209351</td>\n",
       "    </tr>\n",
       "    <tr>\n",
       "      <th>Churn</th>\n",
       "      <td>0.010979</td>\n",
       "      <td>0.018046</td>\n",
       "      <td>0.011995</td>\n",
       "      <td>0.257524</td>\n",
       "      <td>-0.110149</td>\n",
       "      <td>-0.096884</td>\n",
       "      <td>0.202439</td>\n",
       "      <td>0.016268</td>\n",
       "      <td>0.202434</td>\n",
       "      <td>0.087042</td>\n",
       "      <td>0.001943</td>\n",
       "      <td>0.087036</td>\n",
       "      <td>0.043262</td>\n",
       "      <td>-0.006671</td>\n",
       "      <td>0.043260</td>\n",
       "      <td>0.064731</td>\n",
       "      <td>-0.045844</td>\n",
       "      <td>0.064728</td>\n",
       "      <td>0.209351</td>\n",
       "      <td>1.000000</td>\n",
       "    </tr>\n",
       "  </tbody>\n",
       "</table>\n",
       "</div>"
      ],
      "text/plain": [
       "                         State  Account_Length  Area_Code  International_Plan  \\\n",
       "State                 1.000000        0.008638   0.015370            0.009789   \n",
       "Account_Length        0.008638        1.000000  -0.020394            0.013948   \n",
       "Area_Code             0.015370       -0.020394   1.000000            0.039263   \n",
       "International_Plan    0.009789        0.013948   0.039263            1.000000   \n",
       "VMail_Plan           -0.033323       -0.004602  -0.003150            0.009278   \n",
       "VMail_Message        -0.028491       -0.012983  -0.002597            0.011596   \n",
       "Day_Mins              0.009172        0.002002  -0.018900            0.028220   \n",
       "Day_Calls            -0.008418        0.032783  -0.013179            0.007477   \n",
       "Day_Charge            0.009173        0.001999  -0.018903            0.028223   \n",
       "Eve_Mins              0.002927       -0.006778   0.011513            0.023740   \n",
       "Eve_Calls            -0.010696        0.015598  -0.011528            0.003360   \n",
       "Eve_Charge            0.002920       -0.006775   0.011533            0.023740   \n",
       "Night_Mins            0.014747       -0.002077   0.002794           -0.025951   \n",
       "Night_Calls          -0.002134       -0.009482   0.015316            0.007390   \n",
       "Night_Charge          0.014735       -0.002095   0.002782           -0.025959   \n",
       "International_Mins   -0.017423        0.003483  -0.007292            0.036973   \n",
       "International_calls   0.012466        0.023485  -0.011531            0.006717   \n",
       "International_Charge -0.017464        0.003501  -0.007386            0.036955   \n",
       "CustServ_Calls       -0.016943        0.002620   0.021046           -0.012846   \n",
       "Churn                 0.010979        0.018046   0.011995            0.257524   \n",
       "\n",
       "                      VMail_Plan  VMail_Message  Day_Mins  Day_Calls  \\\n",
       "State                  -0.033323      -0.028491  0.009172  -0.008418   \n",
       "Account_Length         -0.004602      -0.012983  0.002002   0.032783   \n",
       "Area_Code              -0.003150      -0.002597 -0.018900  -0.013179   \n",
       "International_Plan      0.009278       0.011596  0.028220   0.007477   \n",
       "VMail_Plan              1.000000       0.955280  0.004444  -0.005738   \n",
       "VMail_Message           0.955280       1.000000  0.009028  -0.003846   \n",
       "Day_Mins                0.004444       0.009028  1.000000  -0.002823   \n",
       "Day_Calls              -0.005738      -0.003846 -0.002823   1.000000   \n",
       "Day_Charge              0.004441       0.009025  1.000000  -0.002821   \n",
       "Eve_Mins                0.021775       0.017872 -0.010260  -0.006430   \n",
       "Eve_Calls              -0.005534      -0.006508  0.012990   0.003923   \n",
       "Eve_Charge              0.021779       0.017878 -0.010268  -0.006429   \n",
       "Night_Mins              0.006431       0.004672  0.009604   0.010730   \n",
       "Night_Calls             0.008468       0.000889  0.005165  -0.013299   \n",
       "Night_Charge            0.006426       0.004665  0.009591   0.010724   \n",
       "International_Mins      0.005872       0.005167 -0.012314   0.012951   \n",
       "International_calls    -0.000043       0.007423  0.000166   0.010889   \n",
       "International_Charge    0.005912       0.005202 -0.012261   0.013055   \n",
       "CustServ_Calls         -0.014544      -0.006951 -0.008149  -0.008747   \n",
       "Churn                  -0.110149      -0.096884  0.202439   0.016268   \n",
       "\n",
       "                      Day_Charge  Eve_Mins  Eve_Calls  Eve_Charge  Night_Mins  \\\n",
       "State                   0.009173  0.002927  -0.010696    0.002920    0.014747   \n",
       "Account_Length          0.001999 -0.006778   0.015598   -0.006775   -0.002077   \n",
       "Area_Code              -0.018903  0.011513  -0.011528    0.011533    0.002794   \n",
       "International_Plan      0.028223  0.023740   0.003360    0.023740   -0.025951   \n",
       "VMail_Plan              0.004441  0.021775  -0.005534    0.021779    0.006431   \n",
       "VMail_Message           0.009025  0.017872  -0.006508    0.017878    0.004672   \n",
       "Day_Mins                1.000000 -0.010260   0.012990   -0.010268    0.009604   \n",
       "Day_Calls              -0.002821 -0.006430   0.003923   -0.006429    0.010730   \n",
       "Day_Charge              1.000000 -0.010255   0.012992   -0.010262    0.009606   \n",
       "Eve_Mins               -0.010255  1.000000   0.001135    1.000000   -0.018830   \n",
       "Eve_Calls               0.012992  0.001135   1.000000    0.001151    0.002610   \n",
       "Eve_Charge             -0.010262  1.000000   0.001151    1.000000   -0.018839   \n",
       "Night_Mins              0.009606 -0.018830   0.002610   -0.018839    1.000000   \n",
       "Night_Calls             0.005164  0.014226  -0.015463    0.014231    0.025742   \n",
       "Night_Charge            0.009593 -0.018837   0.002624   -0.018846    0.999999   \n",
       "International_Mins     -0.012315  0.000165  -0.002798    0.000163   -0.004549   \n",
       "International_calls     0.000163  0.005749   0.005198    0.005751   -0.014651   \n",
       "International_Charge   -0.012262  0.000172  -0.002831    0.000170   -0.004500   \n",
       "CustServ_Calls         -0.008155 -0.015598   0.007730   -0.015611   -0.013871   \n",
       "Churn                   0.202434  0.087042   0.001943    0.087036    0.043262   \n",
       "\n",
       "                      Night_Calls  Night_Charge  International_Mins  \\\n",
       "State                   -0.002134      0.014735           -0.017423   \n",
       "Account_Length          -0.009482     -0.002095            0.003483   \n",
       "Area_Code                0.015316      0.002782           -0.007292   \n",
       "International_Plan       0.007390     -0.025959            0.036973   \n",
       "VMail_Plan               0.008468      0.006426            0.005872   \n",
       "VMail_Message            0.000889      0.004665            0.005167   \n",
       "Day_Mins                 0.005165      0.009591           -0.012314   \n",
       "Day_Calls               -0.013299      0.010724            0.012951   \n",
       "Day_Charge               0.005164      0.009593           -0.012315   \n",
       "Eve_Mins                 0.014226     -0.018837            0.000165   \n",
       "Eve_Calls               -0.015463      0.002624           -0.002798   \n",
       "Eve_Charge               0.014231     -0.018846            0.000163   \n",
       "Night_Mins               0.025742      0.999999           -0.004549   \n",
       "Night_Calls              1.000000      0.025722           -0.006431   \n",
       "Night_Charge             0.025722      1.000000           -0.004546   \n",
       "International_Mins      -0.006431     -0.004546            1.000000   \n",
       "International_calls      0.003294     -0.014624            0.021431   \n",
       "International_Charge    -0.006439     -0.004497            0.999993   \n",
       "CustServ_Calls          -0.010258     -0.013868           -0.016079   \n",
       "Churn                   -0.006671      0.043260            0.064731   \n",
       "\n",
       "                      International_calls  International_Charge  \\\n",
       "State                            0.012466             -0.017464   \n",
       "Account_Length                   0.023485              0.003501   \n",
       "Area_Code                       -0.011531             -0.007386   \n",
       "International_Plan               0.006717              0.036955   \n",
       "VMail_Plan                      -0.000043              0.005912   \n",
       "VMail_Message                    0.007423              0.005202   \n",
       "Day_Mins                         0.000166             -0.012261   \n",
       "Day_Calls                        0.010889              0.013055   \n",
       "Day_Charge                       0.000163             -0.012262   \n",
       "Eve_Mins                         0.005749              0.000172   \n",
       "Eve_Calls                        0.005198             -0.002831   \n",
       "Eve_Charge                       0.005751              0.000170   \n",
       "Night_Mins                      -0.014651             -0.004500   \n",
       "Night_Calls                      0.003294             -0.006439   \n",
       "Night_Charge                    -0.014624             -0.004497   \n",
       "International_Mins               0.021431              0.999993   \n",
       "International_calls              1.000000              0.021548   \n",
       "International_Charge             0.021548              1.000000   \n",
       "CustServ_Calls                  -0.016778             -0.016148   \n",
       "Churn                           -0.045844              0.064728   \n",
       "\n",
       "                      CustServ_Calls     Churn  \n",
       "State                      -0.016943  0.010979  \n",
       "Account_Length              0.002620  0.018046  \n",
       "Area_Code                   0.021046  0.011995  \n",
       "International_Plan         -0.012846  0.257524  \n",
       "VMail_Plan                 -0.014544 -0.110149  \n",
       "VMail_Message              -0.006951 -0.096884  \n",
       "Day_Mins                   -0.008149  0.202439  \n",
       "Day_Calls                  -0.008747  0.016268  \n",
       "Day_Charge                 -0.008155  0.202434  \n",
       "Eve_Mins                   -0.015598  0.087042  \n",
       "Eve_Calls                   0.007730  0.001943  \n",
       "Eve_Charge                 -0.015611  0.087036  \n",
       "Night_Mins                 -0.013871  0.043262  \n",
       "Night_Calls                -0.010258 -0.006671  \n",
       "Night_Charge               -0.013868  0.043260  \n",
       "International_Mins         -0.016079  0.064731  \n",
       "International_calls        -0.016778 -0.045844  \n",
       "International_Charge       -0.016148  0.064728  \n",
       "CustServ_Calls              1.000000  0.209351  \n",
       "Churn                       0.209351  1.000000  "
      ]
     },
     "execution_count": 83,
     "metadata": {},
     "output_type": "execute_result"
    }
   ],
   "source": [
    "df.corr()"
   ]
  },
  {
   "cell_type": "markdown",
   "id": "cf6a679a",
   "metadata": {},
   "source": [
    "# Model Creation"
   ]
  },
  {
   "cell_type": "markdown",
   "id": "abeebca0",
   "metadata": {},
   "source": [
    "## 1) Linear Regression"
   ]
  },
  {
   "cell_type": "code",
   "execution_count": 84,
   "id": "a19f3718",
   "metadata": {},
   "outputs": [
    {
     "data": {
      "text/plain": [
       "LogisticRegression()"
      ]
     },
     "execution_count": 84,
     "metadata": {},
     "output_type": "execute_result"
    }
   ],
   "source": [
    "lr =LogisticRegression()\n",
    "lr.fit(x_train,y_train)"
   ]
  },
  {
   "cell_type": "code",
   "execution_count": 86,
   "id": "f4bd2bbb",
   "metadata": {},
   "outputs": [
    {
     "name": "stdout",
     "output_type": "stream",
     "text": [
      "Testin Accuracy: 0.86\n",
      "Confusion Matrix:\n",
      "[[792   0]\n",
      " [130   2]]\n",
      "Classification Report:\n",
      "              precision    recall  f1-score   support\n",
      "\n",
      "           0       0.86      1.00      0.92       792\n",
      "           1       1.00      0.02      0.03       132\n",
      "\n",
      "    accuracy                           0.86       924\n",
      "   macro avg       0.93      0.51      0.48       924\n",
      "weighted avg       0.88      0.86      0.80       924\n",
      "\n"
     ]
    }
   ],
   "source": [
    "# Make predictions on the test data\n",
    "y_test_pred = lr.predict(x_test)\n",
    "\n",
    "# Evaluation matrics to evaluate trained model on test dataset\n",
    "accuracy = accuracy_score(y_test, y_test_pred)\n",
    "conf_matrix = confusion_matrix(y_test, y_test_pred)\n",
    "class_report = classification_report(y_test, y_test_pred)\n",
    "\n",
    "print(f\"Testin Accuracy: {accuracy:.2f}\")\n",
    "print(\"Confusion Matrix:\")\n",
    "print(conf_matrix)\n",
    "print(\"Classification Report:\")\n",
    "print(class_report)"
   ]
  },
  {
   "cell_type": "code",
   "execution_count": 87,
   "id": "c5b259c3",
   "metadata": {},
   "outputs": [
    {
     "name": "stdout",
     "output_type": "stream",
     "text": [
      "Training Accuracy: 0.86\n",
      "Confusion Matrix:\n",
      "[[3169    0]\n",
      " [ 503   21]]\n",
      "Classification Report:\n",
      "              precision    recall  f1-score   support\n",
      "\n",
      "           0       0.86      1.00      0.93      3169\n",
      "           1       1.00      0.04      0.08       524\n",
      "\n",
      "    accuracy                           0.86      3693\n",
      "   macro avg       0.93      0.52      0.50      3693\n",
      "weighted avg       0.88      0.86      0.81      3693\n",
      "\n"
     ]
    }
   ],
   "source": [
    "# Make predictions on the train data\n",
    "y_train_pred = lr.predict(x_train)\n",
    "\n",
    "# Evaluation matrics to evaluate trained model on train dataset\n",
    "accuracy = accuracy_score(y_train, y_train_pred)\n",
    "conf_matrix = confusion_matrix(y_train, y_train_pred)\n",
    "class_report = classification_report(y_train, y_train_pred)\n",
    "\n",
    "print(f\"Training Accuracy: {accuracy:.2f}\")\n",
    "print(\"Confusion Matrix:\")\n",
    "print(conf_matrix)\n",
    "print(\"Classification Report:\")\n",
    "print(class_report)"
   ]
  },
  {
   "cell_type": "markdown",
   "id": "8a0cc8f7",
   "metadata": {},
   "source": [
    "## 2) Random forest"
   ]
  },
  {
   "cell_type": "code",
   "execution_count": 88,
   "id": "45a72721",
   "metadata": {},
   "outputs": [
    {
     "data": {
      "text/plain": [
       "RandomForestClassifier()"
      ]
     },
     "execution_count": 88,
     "metadata": {},
     "output_type": "execute_result"
    }
   ],
   "source": [
    "rf_c =RandomForestClassifier()\n",
    "rf_c.fit(x_train,y_train)"
   ]
  },
  {
   "cell_type": "code",
   "execution_count": 89,
   "id": "3248da1d",
   "metadata": {},
   "outputs": [
    {
     "name": "stdout",
     "output_type": "stream",
     "text": [
      "Testin Accuracy: 0.89\n",
      "Confusion Matrix:\n",
      "[[788   4]\n",
      " [101  31]]\n",
      "Classification Report:\n",
      "              precision    recall  f1-score   support\n",
      "\n",
      "           0       0.89      0.99      0.94       792\n",
      "           1       0.89      0.23      0.37       132\n",
      "\n",
      "    accuracy                           0.89       924\n",
      "   macro avg       0.89      0.61      0.65       924\n",
      "weighted avg       0.89      0.89      0.86       924\n",
      "\n"
     ]
    }
   ],
   "source": [
    "# Make predictions on the test data\n",
    "y_test_pred = rf_c.predict(x_test)\n",
    "\n",
    "# Evaluation matrics to evaluate trained model on test dataset\n",
    "accuracy = accuracy_score(y_test, y_test_pred)\n",
    "conf_matrix = confusion_matrix(y_test, y_test_pred)\n",
    "class_report = classification_report(y_test, y_test_pred)\n",
    "\n",
    "print(f\"Testin Accuracy: {accuracy:.2f}\")\n",
    "print(\"Confusion Matrix:\")\n",
    "print(conf_matrix)\n",
    "print(\"Classification Report:\")\n",
    "print(class_report)"
   ]
  },
  {
   "cell_type": "code",
   "execution_count": 90,
   "id": "c852558a",
   "metadata": {},
   "outputs": [
    {
     "name": "stdout",
     "output_type": "stream",
     "text": [
      "Training Accuracy: 1.00\n",
      "Confusion Matrix:\n",
      "[[3169    0]\n",
      " [   0  524]]\n",
      "Classification Report:\n",
      "              precision    recall  f1-score   support\n",
      "\n",
      "           0       1.00      1.00      1.00      3169\n",
      "           1       1.00      1.00      1.00       524\n",
      "\n",
      "    accuracy                           1.00      3693\n",
      "   macro avg       1.00      1.00      1.00      3693\n",
      "weighted avg       1.00      1.00      1.00      3693\n",
      "\n"
     ]
    }
   ],
   "source": [
    "# Make predictions on the train data\n",
    "y_train_pred = rf_c.predict(x_train)\n",
    "\n",
    "# Evaluation matrics to evaluate trained model on train dataset\n",
    "accuracy = accuracy_score(y_train, y_train_pred)\n",
    "conf_matrix = confusion_matrix(y_train, y_train_pred)\n",
    "class_report = classification_report(y_train, y_train_pred)\n",
    "\n",
    "print(f\"Training Accuracy: {accuracy:.2f}\")\n",
    "print(\"Confusion Matrix:\")\n",
    "print(conf_matrix)\n",
    "print(\"Classification Report:\")\n",
    "print(class_report)"
   ]
  },
  {
   "cell_type": "markdown",
   "id": "bdb4588f",
   "metadata": {},
   "source": [
    "## 3) Gradient Boosting"
   ]
  },
  {
   "cell_type": "code",
   "execution_count": 91,
   "id": "0d12e487",
   "metadata": {},
   "outputs": [
    {
     "data": {
      "text/plain": [
       "GradientBoostingClassifier()"
      ]
     },
     "execution_count": 91,
     "metadata": {},
     "output_type": "execute_result"
    }
   ],
   "source": [
    "GB =GradientBoostingClassifier()\n",
    "GB.fit(x_train,y_train)"
   ]
  },
  {
   "cell_type": "code",
   "execution_count": 92,
   "id": "62e2c031",
   "metadata": {},
   "outputs": [
    {
     "name": "stdout",
     "output_type": "stream",
     "text": [
      "Testing Accuracy: 0.89\n",
      "Confusion Matrix:\n",
      "[[783   9]\n",
      " [ 96  36]]\n",
      "Classification Report:\n",
      "              precision    recall  f1-score   support\n",
      "\n",
      "           0       0.89      0.99      0.94       792\n",
      "           1       0.80      0.27      0.41       132\n",
      "\n",
      "    accuracy                           0.89       924\n",
      "   macro avg       0.85      0.63      0.67       924\n",
      "weighted avg       0.88      0.89      0.86       924\n",
      "\n"
     ]
    }
   ],
   "source": [
    "# Make predictions on the test data\n",
    "y_test_pred = GB.predict(x_test)\n",
    "\n",
    "# Evaluation matrics to evaluate trained model on test dataset\n",
    "accuracy = accuracy_score(y_test, y_test_pred)\n",
    "conf_matrix = confusion_matrix(y_test, y_test_pred)\n",
    "class_report = classification_report(y_test, y_test_pred)\n",
    "\n",
    "print(f\"Testing Accuracy: {accuracy:.2f}\")\n",
    "print(\"Confusion Matrix:\")\n",
    "print(conf_matrix)\n",
    "print(\"Classification Report:\")\n",
    "print(class_report)"
   ]
  },
  {
   "cell_type": "code",
   "execution_count": 93,
   "id": "9ade9508",
   "metadata": {},
   "outputs": [
    {
     "name": "stdout",
     "output_type": "stream",
     "text": [
      "Training Accuracy: 0.91\n",
      "Confusion Matrix:\n",
      "[[3160    9]\n",
      " [ 319  205]]\n",
      "Classification Report:\n",
      "              precision    recall  f1-score   support\n",
      "\n",
      "           0       0.91      1.00      0.95      3169\n",
      "           1       0.96      0.39      0.56       524\n",
      "\n",
      "    accuracy                           0.91      3693\n",
      "   macro avg       0.93      0.69      0.75      3693\n",
      "weighted avg       0.92      0.91      0.89      3693\n",
      "\n"
     ]
    }
   ],
   "source": [
    "# Make predictions on the train data\n",
    "y_train_pred = GB.predict(x_train)\n",
    "\n",
    "# Evaluation matrics to evaluate trained model on train dataset\n",
    "accuracy = accuracy_score(y_train, y_train_pred)\n",
    "conf_matrix = confusion_matrix(y_train, y_train_pred)\n",
    "class_report = classification_report(y_train, y_train_pred)\n",
    "\n",
    "print(f\"Training Accuracy: {accuracy:.2f}\")\n",
    "print(\"Confusion Matrix:\")\n",
    "print(conf_matrix)\n",
    "print(\"Classification Report:\")\n",
    "print(class_report)"
   ]
  },
  {
   "cell_type": "code",
   "execution_count": null,
   "id": "de77e367",
   "metadata": {},
   "outputs": [],
   "source": []
  }
 ],
 "metadata": {
  "kernelspec": {
   "display_name": "Python 3 (ipykernel)",
   "language": "python",
   "name": "python3"
  },
  "language_info": {
   "codemirror_mode": {
    "name": "ipython",
    "version": 3
   },
   "file_extension": ".py",
   "mimetype": "text/x-python",
   "name": "python",
   "nbconvert_exporter": "python",
   "pygments_lexer": "ipython3",
   "version": "3.9.12"
  }
 },
 "nbformat": 4,
 "nbformat_minor": 5
}
